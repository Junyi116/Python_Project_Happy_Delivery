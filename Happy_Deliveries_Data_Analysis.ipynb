{
 "cells": [
  {
   "cell_type": "markdown",
   "metadata": {},
   "source": [
    "# **Happy Deliveries Case Study Solutions**"
   ]
  },
  {
   "cell_type": "markdown",
   "metadata": {
    "id": "F8nhV0oqzfPH"
   },
   "source": [
    "## Data Clean Goals:\n",
    "- Input errors may have resulted in errors in ‘customer’ dataset \n",
    "- Actual payment for order needs to be calculated from the ‘delivery’ dataset\n",
    "- Orders with the status ‘CANCELLED’ payments should be removed from \n",
    "sales since they had to be refunded."
   ]
  },
  {
   "cell_type": "code",
   "execution_count": 8,
   "metadata": {
    "id": "Y_Wr5pYKzDH3"
   },
   "outputs": [],
   "source": [
    "# UPLOAD: DATASETS & LIBRARIES\n",
    "import seaborn as sns\n",
    "import matplotlib.pyplot as plt\n",
    "import pandas as pd\n",
    "import numpy as np\n",
    "import warnings\n",
    "warnings.simplefilter(action='ignore', category=FutureWarning)"
   ]
  },
  {
   "cell_type": "code",
   "execution_count": 9,
   "metadata": {},
   "outputs": [],
   "source": [
    "# Read the order file\n",
    "delivery = pd.read_csv(\"../data/hd_orders.csv\")"
   ]
  },
  {
   "cell_type": "code",
   "execution_count": 12,
   "metadata": {},
   "outputs": [],
   "source": [
    "# Read the customer file\n",
    "customer = pd.read_excel(\"../data/hd_customers.xlsx\")"
   ]
  },
  {
   "cell_type": "markdown",
   "metadata": {},
   "source": [
    "### Clean Dataset: Look for input errors\n",
    "\n",
    "#### Task 1: \n",
    "- Input errors may have resulted in errors in ‘customer’ dataset"
   ]
  },
  {
   "cell_type": "code",
   "execution_count": 15,
   "metadata": {
    "id": "6lWVl0gAz1Oh"
   },
   "outputs": [
    {
     "name": "stdout",
     "output_type": "stream",
     "text": [
      "<class 'pandas.core.frame.DataFrame'>\n",
      "RangeIndex: 406 entries, 0 to 405\n",
      "Data columns (total 6 columns):\n",
      " #   Column      Non-Null Count  Dtype \n",
      "---  ------      --------------  ----- \n",
      " 0   id          406 non-null    int64 \n",
      " 1   first_name  406 non-null    object\n",
      " 2   last_name   406 non-null    object\n",
      " 3   age         406 non-null    int64 \n",
      " 4   city        406 non-null    object\n",
      " 5   email       406 non-null    object\n",
      "dtypes: int64(2), object(4)\n",
      "memory usage: 19.2+ KB\n"
     ]
    }
   ],
   "source": [
    "# Display basic information\n",
    "customer.info() "
   ]
  },
  {
   "cell_type": "code",
   "execution_count": 17,
   "metadata": {},
   "outputs": [
    {
     "data": {
      "text/html": [
       "<div>\n",
       "<style scoped>\n",
       "    .dataframe tbody tr th:only-of-type {\n",
       "        vertical-align: middle;\n",
       "    }\n",
       "\n",
       "    .dataframe tbody tr th {\n",
       "        vertical-align: top;\n",
       "    }\n",
       "\n",
       "    .dataframe thead th {\n",
       "        text-align: right;\n",
       "    }\n",
       "</style>\n",
       "<table border=\"1\" class=\"dataframe\">\n",
       "  <thead>\n",
       "    <tr style=\"text-align: right;\">\n",
       "      <th></th>\n",
       "      <th>id</th>\n",
       "      <th>first_name</th>\n",
       "      <th>last_name</th>\n",
       "      <th>age</th>\n",
       "      <th>city</th>\n",
       "      <th>email</th>\n",
       "    </tr>\n",
       "  </thead>\n",
       "  <tbody>\n",
       "    <tr>\n",
       "      <th>0</th>\n",
       "      <td>1001</td>\n",
       "      <td>Samuel</td>\n",
       "      <td>Zavala</td>\n",
       "      <td>139</td>\n",
       "      <td>Dublin</td>\n",
       "      <td>Zavala_Samuel46@xfinity.com</td>\n",
       "    </tr>\n",
       "    <tr>\n",
       "      <th>1</th>\n",
       "      <td>1002</td>\n",
       "      <td>Sara</td>\n",
       "      <td>Lee</td>\n",
       "      <td>33</td>\n",
       "      <td>Dublin</td>\n",
       "      <td>Sara.L@hotmail.com</td>\n",
       "    </tr>\n",
       "    <tr>\n",
       "      <th>2</th>\n",
       "      <td>1003</td>\n",
       "      <td>Michael</td>\n",
       "      <td>Davidson</td>\n",
       "      <td>23</td>\n",
       "      <td>Dublin</td>\n",
       "      <td>MichaelDavidson82@att.com</td>\n",
       "    </tr>\n",
       "    <tr>\n",
       "      <th>3</th>\n",
       "      <td>1004</td>\n",
       "      <td>Willie</td>\n",
       "      <td>Sims</td>\n",
       "      <td>29</td>\n",
       "      <td>Sligo</td>\n",
       "      <td>Willie_S@yahoo.com</td>\n",
       "    </tr>\n",
       "    <tr>\n",
       "      <th>4</th>\n",
       "      <td>1005</td>\n",
       "      <td>Carly</td>\n",
       "      <td>Armstrong</td>\n",
       "      <td>22</td>\n",
       "      <td>Mayo</td>\n",
       "      <td>CArmstrong@mail.com</td>\n",
       "    </tr>\n",
       "  </tbody>\n",
       "</table>\n",
       "</div>"
      ],
      "text/plain": [
       "     id first_name  last_name  age    city                        email\n",
       "0  1001     Samuel     Zavala  139  Dublin  Zavala_Samuel46@xfinity.com\n",
       "1  1002       Sara        Lee   33  Dublin           Sara.L@hotmail.com\n",
       "2  1003    Michael   Davidson   23  Dublin    MichaelDavidson82@att.com\n",
       "3  1004     Willie       Sims   29   Sligo           Willie_S@yahoo.com\n",
       "4  1005      Carly  Armstrong   22    Mayo          CArmstrong@mail.com"
      ]
     },
     "execution_count": 17,
     "metadata": {},
     "output_type": "execute_result"
    }
   ],
   "source": [
    "# See the first few rows of the dataframe\n",
    "customer.head() "
   ]
  },
  {
   "cell_type": "code",
   "execution_count": 19,
   "metadata": {},
   "outputs": [
    {
     "data": {
      "text/plain": [
       "age\n",
       "22     41\n",
       "23     35\n",
       "21     30\n",
       "24     26\n",
       "26     26\n",
       "28     26\n",
       "30     23\n",
       "31     21\n",
       "25     19\n",
       "33     19\n",
       "27     15\n",
       "32     14\n",
       "29     13\n",
       "20     13\n",
       "34     13\n",
       "19     11\n",
       "18      8\n",
       "37      5\n",
       "35      3\n",
       "58      3\n",
       "43      2\n",
       "36      2\n",
       "55      2\n",
       "41      2\n",
       "45      2\n",
       "38      2\n",
       "6       2\n",
       "42      2\n",
       "59      2\n",
       "68      2\n",
       "67      2\n",
       "49      2\n",
       "60      1\n",
       "62      1\n",
       "40      1\n",
       "46      1\n",
       "75      1\n",
       "61      1\n",
       "70      1\n",
       "139     1\n",
       "44      1\n",
       "57      1\n",
       "53      1\n",
       "47      1\n",
       "54      1\n",
       "8       1\n",
       "150     1\n",
       "66      1\n",
       "71      1\n",
       "160     1\n",
       "Name: count, dtype: int64"
      ]
     },
     "execution_count": 19,
     "metadata": {},
     "output_type": "execute_result"
    }
   ],
   "source": [
    "# Count the number of occurrences of each age in the 'age' column\n",
    "customer[\"age\"].value_counts()"
   ]
  },
  {
   "cell_type": "code",
   "execution_count": 21,
   "metadata": {},
   "outputs": [],
   "source": [
    "# Define a function to visualize the outliers\n",
    "def plot_boxplot(df,ft):\n",
    "    df.boxplot(column=[ft])\n",
    "    plt.grid(True)\n",
    "    plt.show()"
   ]
  },
  {
   "cell_type": "code",
   "execution_count": 23,
   "metadata": {},
   "outputs": [
    {
     "data": {
      "image/png": "[encoded data removed]",
      "text/plain": [
       "<Figure size 640x480 with 1 Axes>"
      ]
     },
     "metadata": {},
     "output_type": "display_data"
    }
   ],
   "source": [
    "# Show outliers\n",
    "plot_boxplot(customer,'age')"
   ]
  },
  {
   "cell_type": "code",
   "execution_count": 33,
   "metadata": {
    "scrolled": true
   },
   "outputs": [],
   "source": [
    "# Compute the 0.7th percentile and 99.3rd percentile of the 'age' column\n",
    "# These values are used as thresholds for filtering out outliers or analyzing data distribution\n",
    "min_threshold,max_threshold=customer[\"age\"].quantile([0.007,0.993])"
   ]
  },
  {
   "cell_type": "code",
   "execution_count": 35,
   "metadata": {},
   "outputs": [
    {
     "data": {
      "text/plain": [
       "(16.350000000000005, 85.56000000000131)"
      ]
     },
     "execution_count": 35,
     "metadata": {},
     "output_type": "execute_result"
    }
   ],
   "source": [
    "min_threshold,max_threshold"
   ]
  },
  {
   "cell_type": "code",
   "execution_count": 37,
   "metadata": {},
   "outputs": [
    {
     "data": {
      "text/html": [
       "<div>\n",
       "<style scoped>\n",
       "    .dataframe tbody tr th:only-of-type {\n",
       "        vertical-align: middle;\n",
       "    }\n",
       "\n",
       "    .dataframe tbody tr th {\n",
       "        vertical-align: top;\n",
       "    }\n",
       "\n",
       "    .dataframe thead th {\n",
       "        text-align: right;\n",
       "    }\n",
       "</style>\n",
       "<table border=\"1\" class=\"dataframe\">\n",
       "  <thead>\n",
       "    <tr style=\"text-align: right;\">\n",
       "      <th></th>\n",
       "      <th>id</th>\n",
       "      <th>first_name</th>\n",
       "      <th>last_name</th>\n",
       "      <th>age</th>\n",
       "      <th>city</th>\n",
       "      <th>email</th>\n",
       "    </tr>\n",
       "  </thead>\n",
       "  <tbody>\n",
       "    <tr>\n",
       "      <th>0</th>\n",
       "      <td>1001</td>\n",
       "      <td>Samuel</td>\n",
       "      <td>Zavala</td>\n",
       "      <td>139</td>\n",
       "      <td>Dublin</td>\n",
       "      <td>Zavala_Samuel46@xfinity.com</td>\n",
       "    </tr>\n",
       "    <tr>\n",
       "      <th>30</th>\n",
       "      <td>1031</td>\n",
       "      <td>Jessica</td>\n",
       "      <td>Hendricks</td>\n",
       "      <td>150</td>\n",
       "      <td>Dublin</td>\n",
       "      <td>Jessica.H85@xfinity.com</td>\n",
       "    </tr>\n",
       "    <tr>\n",
       "      <th>70</th>\n",
       "      <td>1071</td>\n",
       "      <td>David</td>\n",
       "      <td>Gibson</td>\n",
       "      <td>160</td>\n",
       "      <td>Dublin</td>\n",
       "      <td>DavidGibson@xfinity.com</td>\n",
       "    </tr>\n",
       "  </tbody>\n",
       "</table>\n",
       "</div>"
      ],
      "text/plain": [
       "      id first_name  last_name  age    city                        email\n",
       "0   1001     Samuel     Zavala  139  Dublin  Zavala_Samuel46@xfinity.com\n",
       "30  1031    Jessica  Hendricks  150  Dublin      Jessica.H85@xfinity.com\n",
       "70  1071      David     Gibson  160  Dublin      DavidGibson@xfinity.com"
      ]
     },
     "execution_count": 37,
     "metadata": {},
     "output_type": "execute_result"
    }
   ],
   "source": [
    "# Outlier rows part1\n",
    "customer[customer[\"age\"]>max_threshold]"
   ]
  },
  {
   "cell_type": "code",
   "execution_count": 39,
   "metadata": {},
   "outputs": [
    {
     "data": {
      "text/html": [
       "<div>\n",
       "<style scoped>\n",
       "    .dataframe tbody tr th:only-of-type {\n",
       "        vertical-align: middle;\n",
       "    }\n",
       "\n",
       "    .dataframe tbody tr th {\n",
       "        vertical-align: top;\n",
       "    }\n",
       "\n",
       "    .dataframe thead th {\n",
       "        text-align: right;\n",
       "    }\n",
       "</style>\n",
       "<table border=\"1\" class=\"dataframe\">\n",
       "  <thead>\n",
       "    <tr style=\"text-align: right;\">\n",
       "      <th></th>\n",
       "      <th>id</th>\n",
       "      <th>first_name</th>\n",
       "      <th>last_name</th>\n",
       "      <th>age</th>\n",
       "      <th>city</th>\n",
       "      <th>email</th>\n",
       "    </tr>\n",
       "  </thead>\n",
       "  <tbody>\n",
       "    <tr>\n",
       "      <th>59</th>\n",
       "      <td>1060</td>\n",
       "      <td>Amy</td>\n",
       "      <td>Farmer</td>\n",
       "      <td>8</td>\n",
       "      <td>Kerry</td>\n",
       "      <td>Farmer.Amy@verizon.com</td>\n",
       "    </tr>\n",
       "    <tr>\n",
       "      <th>102</th>\n",
       "      <td>1103</td>\n",
       "      <td>Andrew</td>\n",
       "      <td>Craig</td>\n",
       "      <td>6</td>\n",
       "      <td>Dublin</td>\n",
       "      <td>Andrew.C74@yahoo.com</td>\n",
       "    </tr>\n",
       "    <tr>\n",
       "      <th>164</th>\n",
       "      <td>1165</td>\n",
       "      <td>Christopher</td>\n",
       "      <td>Ramsey</td>\n",
       "      <td>6</td>\n",
       "      <td>Waterford</td>\n",
       "      <td>Ramsey_Christopher@hotmail.com</td>\n",
       "    </tr>\n",
       "  </tbody>\n",
       "</table>\n",
       "</div>"
      ],
      "text/plain": [
       "       id   first_name last_name  age       city  \\\n",
       "59   1060          Amy    Farmer    8      Kerry   \n",
       "102  1103       Andrew     Craig    6     Dublin   \n",
       "164  1165  Christopher    Ramsey    6  Waterford   \n",
       "\n",
       "                              email  \n",
       "59           Farmer.Amy@verizon.com  \n",
       "102            Andrew.C74@yahoo.com  \n",
       "164  Ramsey_Christopher@hotmail.com  "
      ]
     },
     "execution_count": 39,
     "metadata": {},
     "output_type": "execute_result"
    }
   ],
   "source": [
    "# Outlier rows part2\n",
    "customer[customer[\"age\"]<min_threshold]"
   ]
  },
  {
   "cell_type": "code",
   "execution_count": 41,
   "metadata": {},
   "outputs": [],
   "source": [
    "# Removing outliers\n",
    "customer_clean=customer[(customer[\"age\"]<max_threshold) & (customer[\"age\"]>min_threshold)]"
   ]
  },
  {
   "cell_type": "code",
   "execution_count": 43,
   "metadata": {},
   "outputs": [
    {
     "data": {
      "text/plain": [
       "id            0\n",
       "first_name    0\n",
       "last_name     0\n",
       "age           0\n",
       "city          0\n",
       "email         0\n",
       "dtype: int64"
      ]
     },
     "execution_count": 43,
     "metadata": {},
     "output_type": "execute_result"
    }
   ],
   "source": [
    "# Check the null values\n",
    "customer_clean.isnull().sum()"
   ]
  },
  {
   "cell_type": "code",
   "execution_count": 47,
   "metadata": {},
   "outputs": [
    {
     "data": {
      "image/png": "[encoded data removed]",
      "text/plain": [
       "<Figure size 1800x1200 with 1 Axes>"
      ]
     },
     "metadata": {},
     "output_type": "display_data"
    }
   ],
   "source": [
    "# Comparison before and after cleaning\n",
    "# Create a figure and axis for plotting with a specified size\n",
    "fig, ax = plt.subplots(figsize=(18, 12))\n",
    "\n",
    "# Combine the 'age' data from both the original and cleaned DataFrames\n",
    "# Create a DataFrame with age data from the original and cleaned datasets\n",
    "# 'group' column is used to differentiate between the original and cleaned data\n",
    "combined_data = pd.DataFrame({\n",
    "    'age': customer['age'].tolist() + customer_clean['age'].tolist(),\n",
    "    'group': ['Customer'] * len(customer) + ['Customer Clean'] * len(customer_clean)\n",
    "})\n",
    "\n",
    "# Create a boxplot to visualize the distribution of 'age' before and after cleaning\n",
    "# 'x' axis represents the group (Original vs Cleaned), and 'y' axis represents 'age'\n",
    "sns.boxplot(x='group', y='age', data=combined_data, ax=ax)\n",
    "\n",
    "# Set the labels for the x-axis ticks to indicate the groups being compared\n",
    "ax.set_xticks([0, 1])\n",
    "ax.set_xticklabels(['Customer Age', 'Customer Clean Age'], fontsize=14)\n",
    "\n",
    "# Display the plot\n",
    "plt.show()"
   ]
  },
  {
   "cell_type": "code",
   "execution_count": 45,
   "metadata": {},
   "outputs": [
    {
     "data": {
      "text/html": [
       "<div>\n",
       "<style scoped>\n",
       "    .dataframe tbody tr th:only-of-type {\n",
       "        vertical-align: middle;\n",
       "    }\n",
       "\n",
       "    .dataframe tbody tr th {\n",
       "        vertical-align: top;\n",
       "    }\n",
       "\n",
       "    .dataframe thead th {\n",
       "        text-align: right;\n",
       "    }\n",
       "</style>\n",
       "<table border=\"1\" class=\"dataframe\">\n",
       "  <thead>\n",
       "    <tr style=\"text-align: right;\">\n",
       "      <th></th>\n",
       "      <th>id</th>\n",
       "      <th>age</th>\n",
       "    </tr>\n",
       "  </thead>\n",
       "  <tbody>\n",
       "    <tr>\n",
       "      <th>count</th>\n",
       "      <td>400.000000</td>\n",
       "      <td>400.000000</td>\n",
       "    </tr>\n",
       "    <tr>\n",
       "      <th>mean</th>\n",
       "      <td>1205.475000</td>\n",
       "      <td>28.622500</td>\n",
       "    </tr>\n",
       "    <tr>\n",
       "      <th>std</th>\n",
       "      <td>116.924496</td>\n",
       "      <td>9.753863</td>\n",
       "    </tr>\n",
       "    <tr>\n",
       "      <th>min</th>\n",
       "      <td>1002.000000</td>\n",
       "      <td>18.000000</td>\n",
       "    </tr>\n",
       "    <tr>\n",
       "      <th>25%</th>\n",
       "      <td>1105.750000</td>\n",
       "      <td>22.000000</td>\n",
       "    </tr>\n",
       "    <tr>\n",
       "      <th>50%</th>\n",
       "      <td>1206.500000</td>\n",
       "      <td>26.000000</td>\n",
       "    </tr>\n",
       "    <tr>\n",
       "      <th>75%</th>\n",
       "      <td>1306.250000</td>\n",
       "      <td>31.000000</td>\n",
       "    </tr>\n",
       "    <tr>\n",
       "      <th>max</th>\n",
       "      <td>1406.000000</td>\n",
       "      <td>75.000000</td>\n",
       "    </tr>\n",
       "  </tbody>\n",
       "</table>\n",
       "</div>"
      ],
      "text/plain": [
       "                id         age\n",
       "count   400.000000  400.000000\n",
       "mean   1205.475000   28.622500\n",
       "std     116.924496    9.753863\n",
       "min    1002.000000   18.000000\n",
       "25%    1105.750000   22.000000\n",
       "50%    1206.500000   26.000000\n",
       "75%    1306.250000   31.000000\n",
       "max    1406.000000   75.000000"
      ]
     },
     "execution_count": 45,
     "metadata": {},
     "output_type": "execute_result"
    }
   ],
   "source": [
    "# Getting a summary of the dataset's distribution and basic statistical properties\n",
    "customer_clean.describe()"
   ]
  },
  {
   "cell_type": "markdown",
   "metadata": {},
   "source": [
    "#### Task 2: \n",
    "- Actual payment for order needs to be calculated from the ‘delivery’ dataset."
   ]
  },
  {
   "cell_type": "code",
   "execution_count": 51,
   "metadata": {
    "id": "YKrt3pCTz80Z"
   },
   "outputs": [
    {
     "data": {
      "text/plain": [
       "Index(['order_id', 'order_timestamp', 'delivered_timestamp', 'driver_id',\n",
       "       'restaurant_id', 'cust_id', 'delivery_region', 'discount_applied',\n",
       "       'discount_code', 'order_total', 'discount_pc', 'status'],\n",
       "      dtype='object')"
      ]
     },
     "execution_count": 51,
     "metadata": {},
     "output_type": "execute_result"
    }
   ],
   "source": [
    "# Check the column names\n",
    "delivery.columns"
   ]
  },
  {
   "cell_type": "code",
   "execution_count": 53,
   "metadata": {},
   "outputs": [
    {
     "data": {
      "text/plain": [
       "order_id                 0\n",
       "order_timestamp          0\n",
       "delivered_timestamp      7\n",
       "driver_id                0\n",
       "restaurant_id            0\n",
       "cust_id                  0\n",
       "delivery_region          0\n",
       "discount_applied         0\n",
       "discount_code          906\n",
       "order_total              0\n",
       "discount_pc            906\n",
       "status                   0\n",
       "dtype: int64"
      ]
     },
     "execution_count": 53,
     "metadata": {},
     "output_type": "execute_result"
    }
   ],
   "source": [
    "# Check the null values\n",
    "delivery.isnull().sum()"
   ]
  },
  {
   "cell_type": "code",
   "execution_count": 57,
   "metadata": {},
   "outputs": [],
   "source": [
    "# Column \"discount_pc\" is used in later calculation\n",
    "delivery['discount_pc'].fillna(0, inplace=True)"
   ]
  },
  {
   "cell_type": "code",
   "execution_count": 59,
   "metadata": {},
   "outputs": [
    {
     "data": {
      "text/plain": [
       "0"
      ]
     },
     "execution_count": 59,
     "metadata": {},
     "output_type": "execute_result"
    }
   ],
   "source": [
    "# Check the total null values in column 'discount_pc'\n",
    "delivery[\"discount_pc\"].isnull().sum()"
   ]
  },
  {
   "cell_type": "code",
   "execution_count": 61,
   "metadata": {},
   "outputs": [],
   "source": [
    "# Delivery_df['actual_payment'] = delivery_df['order_total'] - (delivery_df['order_total'] * (delivery_df['discount_pc']/100))\n",
    "delivery[\"payment\"]=delivery[\"order_total\"]*(1-delivery[\"discount_pc\"].apply(float)/100)"
   ]
  },
  {
   "cell_type": "code",
   "execution_count": 63,
   "metadata": {},
   "outputs": [
    {
     "data": {
      "text/html": [
       "<div>\n",
       "<style scoped>\n",
       "    .dataframe tbody tr th:only-of-type {\n",
       "        vertical-align: middle;\n",
       "    }\n",
       "\n",
       "    .dataframe tbody tr th {\n",
       "        vertical-align: top;\n",
       "    }\n",
       "\n",
       "    .dataframe thead th {\n",
       "        text-align: right;\n",
       "    }\n",
       "</style>\n",
       "<table border=\"1\" class=\"dataframe\">\n",
       "  <thead>\n",
       "    <tr style=\"text-align: right;\">\n",
       "      <th></th>\n",
       "      <th>order_id</th>\n",
       "      <th>order_timestamp</th>\n",
       "      <th>delivered_timestamp</th>\n",
       "      <th>driver_id</th>\n",
       "      <th>restaurant_id</th>\n",
       "      <th>cust_id</th>\n",
       "      <th>delivery_region</th>\n",
       "      <th>discount_applied</th>\n",
       "      <th>discount_code</th>\n",
       "      <th>order_total</th>\n",
       "      <th>discount_pc</th>\n",
       "      <th>status</th>\n",
       "      <th>payment</th>\n",
       "    </tr>\n",
       "  </thead>\n",
       "  <tbody>\n",
       "    <tr>\n",
       "      <th>0</th>\n",
       "      <td>100001</td>\n",
       "      <td>26/11/2021 18:22</td>\n",
       "      <td>26/11/2021 18:49</td>\n",
       "      <td>273</td>\n",
       "      <td>105</td>\n",
       "      <td>1016</td>\n",
       "      <td>Dublin</td>\n",
       "      <td>True</td>\n",
       "      <td>BLACKFRIDAY21</td>\n",
       "      <td>69.46</td>\n",
       "      <td>20.0</td>\n",
       "      <td>COMPLETED</td>\n",
       "      <td>55.568</td>\n",
       "    </tr>\n",
       "    <tr>\n",
       "      <th>1</th>\n",
       "      <td>100002</td>\n",
       "      <td>11/7/2021 21:23</td>\n",
       "      <td>11/7/2021 21:53</td>\n",
       "      <td>43</td>\n",
       "      <td>219</td>\n",
       "      <td>1017</td>\n",
       "      <td>Cork</td>\n",
       "      <td>False</td>\n",
       "      <td>NaN</td>\n",
       "      <td>69.40</td>\n",
       "      <td>0.0</td>\n",
       "      <td>COMPLETED</td>\n",
       "      <td>69.400</td>\n",
       "    </tr>\n",
       "    <tr>\n",
       "      <th>2</th>\n",
       "      <td>100003</td>\n",
       "      <td>27/04/2021 17:28</td>\n",
       "      <td>27/04/2021 17:55</td>\n",
       "      <td>299</td>\n",
       "      <td>48</td>\n",
       "      <td>1019</td>\n",
       "      <td>Dublin</td>\n",
       "      <td>False</td>\n",
       "      <td>NaN</td>\n",
       "      <td>47.16</td>\n",
       "      <td>0.0</td>\n",
       "      <td>COMPLETED</td>\n",
       "      <td>47.160</td>\n",
       "    </tr>\n",
       "    <tr>\n",
       "      <th>3</th>\n",
       "      <td>100004</td>\n",
       "      <td>22/02/2021 18:08</td>\n",
       "      <td>22/02/2021 18:35</td>\n",
       "      <td>320</td>\n",
       "      <td>233</td>\n",
       "      <td>1020</td>\n",
       "      <td>Dublin</td>\n",
       "      <td>False</td>\n",
       "      <td>NaN</td>\n",
       "      <td>47.15</td>\n",
       "      <td>0.0</td>\n",
       "      <td>COMPLETED</td>\n",
       "      <td>47.150</td>\n",
       "    </tr>\n",
       "    <tr>\n",
       "      <th>4</th>\n",
       "      <td>100005</td>\n",
       "      <td>21/06/2021 18:14</td>\n",
       "      <td>21/06/2021 18:44</td>\n",
       "      <td>41</td>\n",
       "      <td>207</td>\n",
       "      <td>1024</td>\n",
       "      <td>Dublin</td>\n",
       "      <td>False</td>\n",
       "      <td>NaN</td>\n",
       "      <td>47.00</td>\n",
       "      <td>0.0</td>\n",
       "      <td>COMPLETED</td>\n",
       "      <td>47.000</td>\n",
       "    </tr>\n",
       "  </tbody>\n",
       "</table>\n",
       "</div>"
      ],
      "text/plain": [
       "   order_id   order_timestamp delivered_timestamp  driver_id  restaurant_id  \\\n",
       "0    100001  26/11/2021 18:22    26/11/2021 18:49        273            105   \n",
       "1    100002   11/7/2021 21:23     11/7/2021 21:53         43            219   \n",
       "2    100003  27/04/2021 17:28    27/04/2021 17:55        299             48   \n",
       "3    100004  22/02/2021 18:08    22/02/2021 18:35        320            233   \n",
       "4    100005  21/06/2021 18:14    21/06/2021 18:44         41            207   \n",
       "\n",
       "   cust_id delivery_region  discount_applied  discount_code  order_total  \\\n",
       "0     1016          Dublin              True  BLACKFRIDAY21        69.46   \n",
       "1     1017            Cork             False            NaN        69.40   \n",
       "2     1019          Dublin             False            NaN        47.16   \n",
       "3     1020          Dublin             False            NaN        47.15   \n",
       "4     1024          Dublin             False            NaN        47.00   \n",
       "\n",
       "   discount_pc     status  payment  \n",
       "0         20.0  COMPLETED   55.568  \n",
       "1          0.0  COMPLETED   69.400  \n",
       "2          0.0  COMPLETED   47.160  \n",
       "3          0.0  COMPLETED   47.150  \n",
       "4          0.0  COMPLETED   47.000  "
      ]
     },
     "execution_count": 63,
     "metadata": {},
     "output_type": "execute_result"
    }
   ],
   "source": [
    "# Check the first 5 rows of delivery table\n",
    "delivery.head()"
   ]
  },
  {
   "cell_type": "markdown",
   "metadata": {},
   "source": [
    "#### Task 3: \n",
    "- Orders with the status ‘CANCELLED’ payments should be removed from sales since they had to be refunded."
   ]
  },
  {
   "cell_type": "code",
   "execution_count": 68,
   "metadata": {},
   "outputs": [
    {
     "data": {
      "text/plain": [
       "order_id                 0\n",
       "order_timestamp          0\n",
       "delivered_timestamp      7\n",
       "driver_id                0\n",
       "restaurant_id            0\n",
       "cust_id                  0\n",
       "delivery_region          0\n",
       "discount_applied         0\n",
       "discount_code          906\n",
       "order_total              0\n",
       "discount_pc              0\n",
       "status                   0\n",
       "payment                  0\n",
       "dtype: int64"
      ]
     },
     "execution_count": 68,
     "metadata": {},
     "output_type": "execute_result"
    }
   ],
   "source": [
    "# Check the null values\n",
    "delivery.isnull().sum()"
   ]
  },
  {
   "cell_type": "code",
   "execution_count": 70,
   "metadata": {
    "id": "i5zJ5ZGa0rtF"
   },
   "outputs": [
    {
     "data": {
      "text/plain": [
       "status\n",
       "COMPLETED    991\n",
       "CANCELLED      7\n",
       "Name: count, dtype: int64"
      ]
     },
     "execution_count": 70,
     "metadata": {},
     "output_type": "execute_result"
    }
   ],
   "source": [
    "# Count the number of occurrences of each unique value in the 'status' column\n",
    "delivery[\"status\"].value_counts()"
   ]
  },
  {
   "cell_type": "code",
   "execution_count": 72,
   "metadata": {},
   "outputs": [],
   "source": [
    "# Remove the status \"CANCELLED\" equal to keep the status \"COMPLETED\"\n",
    "delivery_clean = delivery[delivery[\"status\"]==\"COMPLETED\"]"
   ]
  },
  {
   "cell_type": "code",
   "execution_count": 74,
   "metadata": {},
   "outputs": [
    {
     "data": {
      "text/plain": [
       "0"
      ]
     },
     "execution_count": 74,
     "metadata": {},
     "output_type": "execute_result"
    }
   ],
   "source": [
    "# Check the numbers of status completed\n",
    "delivery_clean[\"status\"].isnull().sum()"
   ]
  },
  {
   "cell_type": "code",
   "execution_count": 76,
   "metadata": {},
   "outputs": [
    {
     "data": {
      "text/plain": [
       "Index(['order_id', 'order_timestamp', 'delivered_timestamp', 'driver_id',\n",
       "       'restaurant_id', 'cust_id', 'delivery_region', 'discount_applied',\n",
       "       'discount_code', 'order_total', 'discount_pc', 'status', 'payment'],\n",
       "      dtype='object')"
      ]
     },
     "execution_count": 76,
     "metadata": {},
     "output_type": "execute_result"
    }
   ],
   "source": [
    "# JOINING THE DATASETS\n",
    "delivery_clean.columns"
   ]
  },
  {
   "cell_type": "code",
   "execution_count": 78,
   "metadata": {},
   "outputs": [
    {
     "data": {
      "text/plain": [
       "Index(['id', 'first_name', 'last_name', 'age', 'city', 'email'], dtype='object')"
      ]
     },
     "execution_count": 78,
     "metadata": {},
     "output_type": "execute_result"
    }
   ],
   "source": [
    "# Check the columns name\n",
    "customer_clean.columns"
   ]
  },
  {
   "cell_type": "code",
   "execution_count": 82,
   "metadata": {},
   "outputs": [],
   "source": [
    "# Customers - id => deliveries - cust_id\n",
    "merged=pd.merge(delivery_clean,customer_clean,left_on=\"cust_id\",right_on=\"id\",how=\"inner\")"
   ]
  },
  {
   "cell_type": "code",
   "execution_count": 84,
   "metadata": {},
   "outputs": [
    {
     "data": {
      "text/html": [
       "<div>\n",
       "<style scoped>\n",
       "    .dataframe tbody tr th:only-of-type {\n",
       "        vertical-align: middle;\n",
       "    }\n",
       "\n",
       "    .dataframe tbody tr th {\n",
       "        vertical-align: top;\n",
       "    }\n",
       "\n",
       "    .dataframe thead th {\n",
       "        text-align: right;\n",
       "    }\n",
       "</style>\n",
       "<table border=\"1\" class=\"dataframe\">\n",
       "  <thead>\n",
       "    <tr style=\"text-align: right;\">\n",
       "      <th></th>\n",
       "      <th>order_id</th>\n",
       "      <th>order_timestamp</th>\n",
       "      <th>delivered_timestamp</th>\n",
       "      <th>driver_id</th>\n",
       "      <th>restaurant_id</th>\n",
       "      <th>cust_id</th>\n",
       "      <th>delivery_region</th>\n",
       "      <th>discount_applied</th>\n",
       "      <th>discount_code</th>\n",
       "      <th>order_total</th>\n",
       "      <th>discount_pc</th>\n",
       "      <th>status</th>\n",
       "      <th>payment</th>\n",
       "      <th>id</th>\n",
       "      <th>first_name</th>\n",
       "      <th>last_name</th>\n",
       "      <th>age</th>\n",
       "      <th>city</th>\n",
       "      <th>email</th>\n",
       "    </tr>\n",
       "  </thead>\n",
       "  <tbody>\n",
       "    <tr>\n",
       "      <th>0</th>\n",
       "      <td>100001</td>\n",
       "      <td>26/11/2021 18:22</td>\n",
       "      <td>26/11/2021 18:49</td>\n",
       "      <td>273</td>\n",
       "      <td>105</td>\n",
       "      <td>1016</td>\n",
       "      <td>Dublin</td>\n",
       "      <td>True</td>\n",
       "      <td>BLACKFRIDAY21</td>\n",
       "      <td>69.46</td>\n",
       "      <td>20.0</td>\n",
       "      <td>COMPLETED</td>\n",
       "      <td>55.568</td>\n",
       "      <td>1016</td>\n",
       "      <td>Michael</td>\n",
       "      <td>Rodriguez</td>\n",
       "      <td>24</td>\n",
       "      <td>Limerick</td>\n",
       "      <td>Michael_R@comcast.net</td>\n",
       "    </tr>\n",
       "    <tr>\n",
       "      <th>1</th>\n",
       "      <td>100328</td>\n",
       "      <td>5/6/2021 20:38</td>\n",
       "      <td>5/6/2021 21:08</td>\n",
       "      <td>351</td>\n",
       "      <td>140</td>\n",
       "      <td>1016</td>\n",
       "      <td>Dublin</td>\n",
       "      <td>False</td>\n",
       "      <td>NaN</td>\n",
       "      <td>16.55</td>\n",
       "      <td>0.0</td>\n",
       "      <td>COMPLETED</td>\n",
       "      <td>16.550</td>\n",
       "      <td>1016</td>\n",
       "      <td>Michael</td>\n",
       "      <td>Rodriguez</td>\n",
       "      <td>24</td>\n",
       "      <td>Limerick</td>\n",
       "      <td>Michael_R@comcast.net</td>\n",
       "    </tr>\n",
       "    <tr>\n",
       "      <th>2</th>\n",
       "      <td>100500</td>\n",
       "      <td>30/04/2022 21:03</td>\n",
       "      <td>30/04/2022 21:39</td>\n",
       "      <td>175</td>\n",
       "      <td>48</td>\n",
       "      <td>1016</td>\n",
       "      <td>Dublin</td>\n",
       "      <td>False</td>\n",
       "      <td>NaN</td>\n",
       "      <td>46.62</td>\n",
       "      <td>0.0</td>\n",
       "      <td>COMPLETED</td>\n",
       "      <td>46.620</td>\n",
       "      <td>1016</td>\n",
       "      <td>Michael</td>\n",
       "      <td>Rodriguez</td>\n",
       "      <td>24</td>\n",
       "      <td>Limerick</td>\n",
       "      <td>Michael_R@comcast.net</td>\n",
       "    </tr>\n",
       "    <tr>\n",
       "      <th>3</th>\n",
       "      <td>100753</td>\n",
       "      <td>2/11/2022 19:15</td>\n",
       "      <td>2/11/2022 19:49</td>\n",
       "      <td>168</td>\n",
       "      <td>321</td>\n",
       "      <td>1016</td>\n",
       "      <td>Galway</td>\n",
       "      <td>False</td>\n",
       "      <td>NaN</td>\n",
       "      <td>26.66</td>\n",
       "      <td>0.0</td>\n",
       "      <td>COMPLETED</td>\n",
       "      <td>26.660</td>\n",
       "      <td>1016</td>\n",
       "      <td>Michael</td>\n",
       "      <td>Rodriguez</td>\n",
       "      <td>24</td>\n",
       "      <td>Limerick</td>\n",
       "      <td>Michael_R@comcast.net</td>\n",
       "    </tr>\n",
       "    <tr>\n",
       "      <th>4</th>\n",
       "      <td>100002</td>\n",
       "      <td>11/7/2021 21:23</td>\n",
       "      <td>11/7/2021 21:53</td>\n",
       "      <td>43</td>\n",
       "      <td>219</td>\n",
       "      <td>1017</td>\n",
       "      <td>Cork</td>\n",
       "      <td>False</td>\n",
       "      <td>NaN</td>\n",
       "      <td>69.40</td>\n",
       "      <td>0.0</td>\n",
       "      <td>COMPLETED</td>\n",
       "      <td>69.400</td>\n",
       "      <td>1017</td>\n",
       "      <td>Mr.</td>\n",
       "      <td>Joseph</td>\n",
       "      <td>23</td>\n",
       "      <td>Limerick</td>\n",
       "      <td>MHorne@zoho.com</td>\n",
       "    </tr>\n",
       "  </tbody>\n",
       "</table>\n",
       "</div>"
      ],
      "text/plain": [
       "   order_id   order_timestamp delivered_timestamp  driver_id  restaurant_id  \\\n",
       "0    100001  26/11/2021 18:22    26/11/2021 18:49        273            105   \n",
       "1    100328    5/6/2021 20:38      5/6/2021 21:08        351            140   \n",
       "2    100500  30/04/2022 21:03    30/04/2022 21:39        175             48   \n",
       "3    100753   2/11/2022 19:15     2/11/2022 19:49        168            321   \n",
       "4    100002   11/7/2021 21:23     11/7/2021 21:53         43            219   \n",
       "\n",
       "   cust_id delivery_region  discount_applied  discount_code  order_total  \\\n",
       "0     1016          Dublin              True  BLACKFRIDAY21        69.46   \n",
       "1     1016          Dublin             False            NaN        16.55   \n",
       "2     1016          Dublin             False            NaN        46.62   \n",
       "3     1016          Galway             False            NaN        26.66   \n",
       "4     1017            Cork             False            NaN        69.40   \n",
       "\n",
       "   discount_pc     status  payment    id first_name  last_name  age      city  \\\n",
       "0         20.0  COMPLETED   55.568  1016    Michael  Rodriguez   24  Limerick   \n",
       "1          0.0  COMPLETED   16.550  1016    Michael  Rodriguez   24  Limerick   \n",
       "2          0.0  COMPLETED   46.620  1016    Michael  Rodriguez   24  Limerick   \n",
       "3          0.0  COMPLETED   26.660  1016    Michael  Rodriguez   24  Limerick   \n",
       "4          0.0  COMPLETED   69.400  1017        Mr.     Joseph   23  Limerick   \n",
       "\n",
       "                   email  \n",
       "0  Michael_R@comcast.net  \n",
       "1  Michael_R@comcast.net  \n",
       "2  Michael_R@comcast.net  \n",
       "3  Michael_R@comcast.net  \n",
       "4        MHorne@zoho.com  "
      ]
     },
     "execution_count": 84,
     "metadata": {},
     "output_type": "execute_result"
    }
   ],
   "source": [
    "# Check the first 5 rows to see the result\n",
    "merged.head()"
   ]
  },
  {
   "cell_type": "code",
   "execution_count": 86,
   "metadata": {},
   "outputs": [
    {
     "data": {
      "text/plain": [
       "(405, 400, 399)"
      ]
     },
     "execution_count": 86,
     "metadata": {},
     "output_type": "execute_result"
    }
   ],
   "source": [
    "# Before and after merge \n",
    "delivery_clean['cust_id'].nunique(),customer_clean['id'].nunique(),merged[\"id\"].nunique()"
   ]
  },
  {
   "cell_type": "code",
   "execution_count": 88,
   "metadata": {},
   "outputs": [
    {
     "data": {
      "text/plain": [
       "7"
      ]
     },
     "execution_count": 88,
     "metadata": {},
     "output_type": "execute_result"
    }
   ],
   "source": [
    "# Numbers of the null rows\n",
    "delivery[delivery['delivered_timestamp'].isnull()].shape[0]"
   ]
  },
  {
   "cell_type": "markdown",
   "metadata": {},
   "source": [
    "### Quenstion 1: \n",
    "- Compare monthly 2021 sales to 2022 and determine has ‘Happy Deliveries’ sales grown."
   ]
  },
  {
   "cell_type": "code",
   "execution_count": 92,
   "metadata": {},
   "outputs": [
    {
     "data": {
      "text/plain": [
       "order_id                 int64\n",
       "order_timestamp         object\n",
       "delivered_timestamp     object\n",
       "driver_id                int64\n",
       "restaurant_id            int64\n",
       "cust_id                  int64\n",
       "delivery_region         object\n",
       "discount_applied          bool\n",
       "discount_code           object\n",
       "order_total            float64\n",
       "discount_pc            float64\n",
       "status                  object\n",
       "payment                float64\n",
       "id                       int64\n",
       "first_name              object\n",
       "last_name               object\n",
       "age                      int64\n",
       "city                    object\n",
       "email                   object\n",
       "dtype: object"
      ]
     },
     "execution_count": 92,
     "metadata": {},
     "output_type": "execute_result"
    }
   ],
   "source": [
    "# Check the type of \"order_timestamp\"\n",
    "merged.dtypes"
   ]
  },
  {
   "cell_type": "code",
   "execution_count": 96,
   "metadata": {},
   "outputs": [],
   "source": [
    "# STEP 1 =  Convert date to correct datatype part 1\n",
    "merged['delivered_timestamp'] = pd.to_datetime(merged['delivered_timestamp'],dayfirst=True)"
   ]
  },
  {
   "cell_type": "code",
   "execution_count": 98,
   "metadata": {},
   "outputs": [],
   "source": [
    "# Convert date to correct datatype part 2\n",
    "merged['order_timestamp'] = pd.to_datetime(merged['order_timestamp'],dayfirst=True)"
   ]
  },
  {
   "cell_type": "code",
   "execution_count": 100,
   "metadata": {},
   "outputs": [],
   "source": [
    "# STEP 2 =  Extract date and create columns for year\n",
    "merged['year'] = merged['order_timestamp'].dt.year"
   ]
  },
  {
   "cell_type": "code",
   "execution_count": 102,
   "metadata": {},
   "outputs": [],
   "source": [
    "# Extract date and create columns for month\n",
    "merged['month'] = merged['order_timestamp'].dt.month"
   ]
  },
  {
   "cell_type": "code",
   "execution_count": 104,
   "metadata": {},
   "outputs": [
    {
     "data": {
      "text/html": [
       "<div>\n",
       "<style scoped>\n",
       "    .dataframe tbody tr th:only-of-type {\n",
       "        vertical-align: middle;\n",
       "    }\n",
       "\n",
       "    .dataframe tbody tr th {\n",
       "        vertical-align: top;\n",
       "    }\n",
       "\n",
       "    .dataframe thead th {\n",
       "        text-align: right;\n",
       "    }\n",
       "</style>\n",
       "<table border=\"1\" class=\"dataframe\">\n",
       "  <thead>\n",
       "    <tr style=\"text-align: right;\">\n",
       "      <th></th>\n",
       "      <th>order_id</th>\n",
       "      <th>order_timestamp</th>\n",
       "      <th>delivered_timestamp</th>\n",
       "      <th>driver_id</th>\n",
       "      <th>restaurant_id</th>\n",
       "      <th>cust_id</th>\n",
       "      <th>delivery_region</th>\n",
       "      <th>discount_applied</th>\n",
       "      <th>discount_code</th>\n",
       "      <th>order_total</th>\n",
       "      <th>...</th>\n",
       "      <th>status</th>\n",
       "      <th>payment</th>\n",
       "      <th>id</th>\n",
       "      <th>first_name</th>\n",
       "      <th>last_name</th>\n",
       "      <th>age</th>\n",
       "      <th>city</th>\n",
       "      <th>email</th>\n",
       "      <th>year</th>\n",
       "      <th>month</th>\n",
       "    </tr>\n",
       "  </thead>\n",
       "  <tbody>\n",
       "    <tr>\n",
       "      <th>0</th>\n",
       "      <td>100001</td>\n",
       "      <td>2021-11-26 18:22:00</td>\n",
       "      <td>2021-11-26 18:49:00</td>\n",
       "      <td>273</td>\n",
       "      <td>105</td>\n",
       "      <td>1016</td>\n",
       "      <td>Dublin</td>\n",
       "      <td>True</td>\n",
       "      <td>BLACKFRIDAY21</td>\n",
       "      <td>69.46</td>\n",
       "      <td>...</td>\n",
       "      <td>COMPLETED</td>\n",
       "      <td>55.568</td>\n",
       "      <td>1016</td>\n",
       "      <td>Michael</td>\n",
       "      <td>Rodriguez</td>\n",
       "      <td>24</td>\n",
       "      <td>Limerick</td>\n",
       "      <td>Michael_R@comcast.net</td>\n",
       "      <td>2021</td>\n",
       "      <td>11</td>\n",
       "    </tr>\n",
       "    <tr>\n",
       "      <th>1</th>\n",
       "      <td>100328</td>\n",
       "      <td>2021-06-05 20:38:00</td>\n",
       "      <td>2021-06-05 21:08:00</td>\n",
       "      <td>351</td>\n",
       "      <td>140</td>\n",
       "      <td>1016</td>\n",
       "      <td>Dublin</td>\n",
       "      <td>False</td>\n",
       "      <td>NaN</td>\n",
       "      <td>16.55</td>\n",
       "      <td>...</td>\n",
       "      <td>COMPLETED</td>\n",
       "      <td>16.550</td>\n",
       "      <td>1016</td>\n",
       "      <td>Michael</td>\n",
       "      <td>Rodriguez</td>\n",
       "      <td>24</td>\n",
       "      <td>Limerick</td>\n",
       "      <td>Michael_R@comcast.net</td>\n",
       "      <td>2021</td>\n",
       "      <td>6</td>\n",
       "    </tr>\n",
       "    <tr>\n",
       "      <th>2</th>\n",
       "      <td>100500</td>\n",
       "      <td>2022-04-30 21:03:00</td>\n",
       "      <td>2022-04-30 21:39:00</td>\n",
       "      <td>175</td>\n",
       "      <td>48</td>\n",
       "      <td>1016</td>\n",
       "      <td>Dublin</td>\n",
       "      <td>False</td>\n",
       "      <td>NaN</td>\n",
       "      <td>46.62</td>\n",
       "      <td>...</td>\n",
       "      <td>COMPLETED</td>\n",
       "      <td>46.620</td>\n",
       "      <td>1016</td>\n",
       "      <td>Michael</td>\n",
       "      <td>Rodriguez</td>\n",
       "      <td>24</td>\n",
       "      <td>Limerick</td>\n",
       "      <td>Michael_R@comcast.net</td>\n",
       "      <td>2022</td>\n",
       "      <td>4</td>\n",
       "    </tr>\n",
       "    <tr>\n",
       "      <th>3</th>\n",
       "      <td>100753</td>\n",
       "      <td>2022-11-02 19:15:00</td>\n",
       "      <td>2022-11-02 19:49:00</td>\n",
       "      <td>168</td>\n",
       "      <td>321</td>\n",
       "      <td>1016</td>\n",
       "      <td>Galway</td>\n",
       "      <td>False</td>\n",
       "      <td>NaN</td>\n",
       "      <td>26.66</td>\n",
       "      <td>...</td>\n",
       "      <td>COMPLETED</td>\n",
       "      <td>26.660</td>\n",
       "      <td>1016</td>\n",
       "      <td>Michael</td>\n",
       "      <td>Rodriguez</td>\n",
       "      <td>24</td>\n",
       "      <td>Limerick</td>\n",
       "      <td>Michael_R@comcast.net</td>\n",
       "      <td>2022</td>\n",
       "      <td>11</td>\n",
       "    </tr>\n",
       "    <tr>\n",
       "      <th>4</th>\n",
       "      <td>100002</td>\n",
       "      <td>2021-07-11 21:23:00</td>\n",
       "      <td>2021-07-11 21:53:00</td>\n",
       "      <td>43</td>\n",
       "      <td>219</td>\n",
       "      <td>1017</td>\n",
       "      <td>Cork</td>\n",
       "      <td>False</td>\n",
       "      <td>NaN</td>\n",
       "      <td>69.40</td>\n",
       "      <td>...</td>\n",
       "      <td>COMPLETED</td>\n",
       "      <td>69.400</td>\n",
       "      <td>1017</td>\n",
       "      <td>Mr.</td>\n",
       "      <td>Joseph</td>\n",
       "      <td>23</td>\n",
       "      <td>Limerick</td>\n",
       "      <td>MHorne@zoho.com</td>\n",
       "      <td>2021</td>\n",
       "      <td>7</td>\n",
       "    </tr>\n",
       "  </tbody>\n",
       "</table>\n",
       "<p>5 rows × 21 columns</p>\n",
       "</div>"
      ],
      "text/plain": [
       "   order_id     order_timestamp delivered_timestamp  driver_id  restaurant_id  \\\n",
       "0    100001 2021-11-26 18:22:00 2021-11-26 18:49:00        273            105   \n",
       "1    100328 2021-06-05 20:38:00 2021-06-05 21:08:00        351            140   \n",
       "2    100500 2022-04-30 21:03:00 2022-04-30 21:39:00        175             48   \n",
       "3    100753 2022-11-02 19:15:00 2022-11-02 19:49:00        168            321   \n",
       "4    100002 2021-07-11 21:23:00 2021-07-11 21:53:00         43            219   \n",
       "\n",
       "   cust_id delivery_region  discount_applied  discount_code  order_total  ...  \\\n",
       "0     1016          Dublin              True  BLACKFRIDAY21        69.46  ...   \n",
       "1     1016          Dublin             False            NaN        16.55  ...   \n",
       "2     1016          Dublin             False            NaN        46.62  ...   \n",
       "3     1016          Galway             False            NaN        26.66  ...   \n",
       "4     1017            Cork             False            NaN        69.40  ...   \n",
       "\n",
       "      status payment    id  first_name  last_name age      city  \\\n",
       "0  COMPLETED  55.568  1016     Michael  Rodriguez  24  Limerick   \n",
       "1  COMPLETED  16.550  1016     Michael  Rodriguez  24  Limerick   \n",
       "2  COMPLETED  46.620  1016     Michael  Rodriguez  24  Limerick   \n",
       "3  COMPLETED  26.660  1016     Michael  Rodriguez  24  Limerick   \n",
       "4  COMPLETED  69.400  1017         Mr.     Joseph  23  Limerick   \n",
       "\n",
       "                   email  year  month  \n",
       "0  Michael_R@comcast.net  2021     11  \n",
       "1  Michael_R@comcast.net  2021      6  \n",
       "2  Michael_R@comcast.net  2022      4  \n",
       "3  Michael_R@comcast.net  2022     11  \n",
       "4        MHorne@zoho.com  2021      7  \n",
       "\n",
       "[5 rows x 21 columns]"
      ]
     },
     "execution_count": 104,
     "metadata": {},
     "output_type": "execute_result"
    }
   ],
   "source": [
    "# Check the result\n",
    "merged.head()"
   ]
  },
  {
   "cell_type": "code",
   "execution_count": 106,
   "metadata": {},
   "outputs": [],
   "source": [
    "# STEP 3 = Select each year from data\n",
    "# Select 2021\n",
    "sales_2021 = merged[merged['year'] == 2021]"
   ]
  },
  {
   "cell_type": "code",
   "execution_count": 108,
   "metadata": {},
   "outputs": [],
   "source": [
    "# Select 2022\n",
    "sales_2022 = merged[merged['year'] == 2022]"
   ]
  },
  {
   "cell_type": "code",
   "execution_count": 110,
   "metadata": {},
   "outputs": [
    {
     "data": {
      "text/plain": [
       "year\n",
       "2021    389\n",
       "Name: count, dtype: int64"
      ]
     },
     "execution_count": 110,
     "metadata": {},
     "output_type": "execute_result"
    }
   ],
   "source": [
    "# Count the number of occurrences of each unique value in the 'year' column in 2021\n",
    "sales_2021['year'].value_counts()"
   ]
  },
  {
   "cell_type": "code",
   "execution_count": 114,
   "metadata": {},
   "outputs": [
    {
     "data": {
      "text/plain": [
       "year\n",
       "2022    583\n",
       "Name: count, dtype: int64"
      ]
     },
     "execution_count": 114,
     "metadata": {},
     "output_type": "execute_result"
    }
   ],
   "source": [
    "# Count the number of occurrences of each unique value in the 'year' column in 2022\n",
    "sales_2022['year'].value_counts()"
   ]
  },
  {
   "cell_type": "code",
   "execution_count": 116,
   "metadata": {},
   "outputs": [
    {
     "data": {
      "text/plain": [
       "month\n",
       "11    71\n",
       "12    50\n",
       "8     40\n",
       "6     35\n",
       "7     33\n",
       "5     31\n",
       "10    29\n",
       "4     26\n",
       "3     23\n",
       "9     22\n",
       "2     20\n",
       "1      9\n",
       "Name: count, dtype: int64"
      ]
     },
     "execution_count": 116,
     "metadata": {},
     "output_type": "execute_result"
    }
   ],
   "source": [
    "# Count the number of occurrences of each unique value in the 'month' column in 2021\n",
    "sales_2021[\"month\"].value_counts()"
   ]
  },
  {
   "cell_type": "code",
   "execution_count": 120,
   "metadata": {},
   "outputs": [],
   "source": [
    "# Get total sales by month in 2021\n",
    "monthly_21 = sales_2021.groupby('month')['payment'].sum().to_frame('Payment')"
   ]
  },
  {
   "cell_type": "code",
   "execution_count": 122,
   "metadata": {},
   "outputs": [
    {
     "data": {
      "text/html": [
       "<div>\n",
       "<style scoped>\n",
       "    .dataframe tbody tr th:only-of-type {\n",
       "        vertical-align: middle;\n",
       "    }\n",
       "\n",
       "    .dataframe tbody tr th {\n",
       "        vertical-align: top;\n",
       "    }\n",
       "\n",
       "    .dataframe thead th {\n",
       "        text-align: right;\n",
       "    }\n",
       "</style>\n",
       "<table border=\"1\" class=\"dataframe\">\n",
       "  <thead>\n",
       "    <tr style=\"text-align: right;\">\n",
       "      <th></th>\n",
       "      <th>Payment</th>\n",
       "    </tr>\n",
       "    <tr>\n",
       "      <th>month</th>\n",
       "      <th></th>\n",
       "    </tr>\n",
       "  </thead>\n",
       "  <tbody>\n",
       "    <tr>\n",
       "      <th>1</th>\n",
       "      <td>197.040</td>\n",
       "    </tr>\n",
       "    <tr>\n",
       "      <th>2</th>\n",
       "      <td>531.030</td>\n",
       "    </tr>\n",
       "    <tr>\n",
       "      <th>3</th>\n",
       "      <td>552.204</td>\n",
       "    </tr>\n",
       "    <tr>\n",
       "      <th>4</th>\n",
       "      <td>724.450</td>\n",
       "    </tr>\n",
       "    <tr>\n",
       "      <th>5</th>\n",
       "      <td>852.407</td>\n",
       "    </tr>\n",
       "    <tr>\n",
       "      <th>6</th>\n",
       "      <td>965.194</td>\n",
       "    </tr>\n",
       "    <tr>\n",
       "      <th>7</th>\n",
       "      <td>924.700</td>\n",
       "    </tr>\n",
       "    <tr>\n",
       "      <th>8</th>\n",
       "      <td>1125.684</td>\n",
       "    </tr>\n",
       "    <tr>\n",
       "      <th>9</th>\n",
       "      <td>516.010</td>\n",
       "    </tr>\n",
       "    <tr>\n",
       "      <th>10</th>\n",
       "      <td>726.507</td>\n",
       "    </tr>\n",
       "    <tr>\n",
       "      <th>11</th>\n",
       "      <td>1878.311</td>\n",
       "    </tr>\n",
       "    <tr>\n",
       "      <th>12</th>\n",
       "      <td>1317.590</td>\n",
       "    </tr>\n",
       "  </tbody>\n",
       "</table>\n",
       "</div>"
      ],
      "text/plain": [
       "        Payment\n",
       "month          \n",
       "1       197.040\n",
       "2       531.030\n",
       "3       552.204\n",
       "4       724.450\n",
       "5       852.407\n",
       "6       965.194\n",
       "7       924.700\n",
       "8      1125.684\n",
       "9       516.010\n",
       "10      726.507\n",
       "11     1878.311\n",
       "12     1317.590"
      ]
     },
     "execution_count": 122,
     "metadata": {},
     "output_type": "execute_result"
    }
   ],
   "source": [
    "# Check the result\n",
    "monthly_21"
   ]
  },
  {
   "cell_type": "code",
   "execution_count": 124,
   "metadata": {},
   "outputs": [],
   "source": [
    "# Get total sales by month in 2022\n",
    "monthly_22 = sales_2022.groupby('month')['payment'].sum().to_frame('Payment')"
   ]
  },
  {
   "cell_type": "code",
   "execution_count": 126,
   "metadata": {},
   "outputs": [
    {
     "data": {
      "image/png": "[encoded data removed]",
      "text/plain": [
       "<Figure size 1500x1000 with 1 Axes>"
      ]
     },
     "metadata": {},
     "output_type": "display_data"
    }
   ],
   "source": [
    "# Create a new figure with a specified size for the plot\n",
    "fig = plt.figure(figsize=(15,10))\n",
    "\n",
    "# Define labels for the legend to differentiate between the two years\n",
    "label=[\"Sales 2021\",\"Sales 2022\"]\n",
    "\n",
    "# Plot the monthly payment data for 2021\n",
    "plt.plot(monthly_21.index,monthly_21['Payment'])\n",
    "\n",
    "# Plot the monthly payment data for 2022\n",
    "plt.plot(monthly_22.index,monthly_22['Payment'])\n",
    "\n",
    "# Add a legend to the plot to identify the two lines\n",
    "plt.legend(label)\n",
    "\n",
    "# Set the x-axis ticks to the months present in the 'sales_2021' DataFrame\n",
    "plt.xticks(sales_2021['month'])\n",
    "\n",
    "# Enable the grid for better readability of the plot\n",
    "plt.grid(True)\n",
    "\n",
    "# Set the title and labels of the plot\n",
    "plt.title(\"Yearly Sales\",fontsize=15)\n",
    "plt.xlabel(\"Month\")\n",
    "plt.ylabel(\"Sales\")\n",
    "\n",
    "# Display the plot\n",
    "plt.show()"
   ]
  },
  {
   "cell_type": "code",
   "execution_count": 128,
   "metadata": {},
   "outputs": [],
   "source": [
    "# Method2\n",
    "# Group sales data by month and calculate total sales for each month\n",
    "sales = merged.groupby(['year', 'month'])['payment'].sum()"
   ]
  },
  {
   "cell_type": "code",
   "execution_count": 130,
   "metadata": {},
   "outputs": [],
   "source": [
    "# From series to DataFrame\n",
    "monthly_sales=pd.DataFrame(data=sales)"
   ]
  },
  {
   "cell_type": "code",
   "execution_count": 134,
   "metadata": {},
   "outputs": [
    {
     "data": {
      "text/html": [
       "<div>\n",
       "<style scoped>\n",
       "    .dataframe tbody tr th:only-of-type {\n",
       "        vertical-align: middle;\n",
       "    }\n",
       "\n",
       "    .dataframe tbody tr th {\n",
       "        vertical-align: top;\n",
       "    }\n",
       "\n",
       "    .dataframe thead th {\n",
       "        text-align: right;\n",
       "    }\n",
       "</style>\n",
       "<table border=\"1\" class=\"dataframe\">\n",
       "  <thead>\n",
       "    <tr style=\"text-align: right;\">\n",
       "      <th></th>\n",
       "      <th></th>\n",
       "      <th>payment</th>\n",
       "    </tr>\n",
       "    <tr>\n",
       "      <th>year</th>\n",
       "      <th>month</th>\n",
       "      <th></th>\n",
       "    </tr>\n",
       "  </thead>\n",
       "  <tbody>\n",
       "    <tr>\n",
       "      <th rowspan=\"12\" valign=\"top\">2021</th>\n",
       "      <th>1</th>\n",
       "      <td>197.040</td>\n",
       "    </tr>\n",
       "    <tr>\n",
       "      <th>2</th>\n",
       "      <td>531.030</td>\n",
       "    </tr>\n",
       "    <tr>\n",
       "      <th>3</th>\n",
       "      <td>552.204</td>\n",
       "    </tr>\n",
       "    <tr>\n",
       "      <th>4</th>\n",
       "      <td>724.450</td>\n",
       "    </tr>\n",
       "    <tr>\n",
       "      <th>5</th>\n",
       "      <td>852.407</td>\n",
       "    </tr>\n",
       "    <tr>\n",
       "      <th>6</th>\n",
       "      <td>965.194</td>\n",
       "    </tr>\n",
       "    <tr>\n",
       "      <th>7</th>\n",
       "      <td>924.700</td>\n",
       "    </tr>\n",
       "    <tr>\n",
       "      <th>8</th>\n",
       "      <td>1125.684</td>\n",
       "    </tr>\n",
       "    <tr>\n",
       "      <th>9</th>\n",
       "      <td>516.010</td>\n",
       "    </tr>\n",
       "    <tr>\n",
       "      <th>10</th>\n",
       "      <td>726.507</td>\n",
       "    </tr>\n",
       "    <tr>\n",
       "      <th>11</th>\n",
       "      <td>1878.311</td>\n",
       "    </tr>\n",
       "    <tr>\n",
       "      <th>12</th>\n",
       "      <td>1317.590</td>\n",
       "    </tr>\n",
       "    <tr>\n",
       "      <th rowspan=\"12\" valign=\"top\">2022</th>\n",
       "      <th>1</th>\n",
       "      <td>358.430</td>\n",
       "    </tr>\n",
       "    <tr>\n",
       "      <th>2</th>\n",
       "      <td>743.610</td>\n",
       "    </tr>\n",
       "    <tr>\n",
       "      <th>3</th>\n",
       "      <td>954.687</td>\n",
       "    </tr>\n",
       "    <tr>\n",
       "      <th>4</th>\n",
       "      <td>814.010</td>\n",
       "    </tr>\n",
       "    <tr>\n",
       "      <th>5</th>\n",
       "      <td>948.392</td>\n",
       "    </tr>\n",
       "    <tr>\n",
       "      <th>6</th>\n",
       "      <td>1443.540</td>\n",
       "    </tr>\n",
       "    <tr>\n",
       "      <th>7</th>\n",
       "      <td>1676.430</td>\n",
       "    </tr>\n",
       "    <tr>\n",
       "      <th>8</th>\n",
       "      <td>1333.940</td>\n",
       "    </tr>\n",
       "    <tr>\n",
       "      <th>9</th>\n",
       "      <td>394.790</td>\n",
       "    </tr>\n",
       "    <tr>\n",
       "      <th>10</th>\n",
       "      <td>517.680</td>\n",
       "    </tr>\n",
       "    <tr>\n",
       "      <th>11</th>\n",
       "      <td>4139.566</td>\n",
       "    </tr>\n",
       "    <tr>\n",
       "      <th>12</th>\n",
       "      <td>2292.880</td>\n",
       "    </tr>\n",
       "  </tbody>\n",
       "</table>\n",
       "</div>"
      ],
      "text/plain": [
       "             payment\n",
       "year month          \n",
       "2021 1       197.040\n",
       "     2       531.030\n",
       "     3       552.204\n",
       "     4       724.450\n",
       "     5       852.407\n",
       "     6       965.194\n",
       "     7       924.700\n",
       "     8      1125.684\n",
       "     9       516.010\n",
       "     10      726.507\n",
       "     11     1878.311\n",
       "     12     1317.590\n",
       "2022 1       358.430\n",
       "     2       743.610\n",
       "     3       954.687\n",
       "     4       814.010\n",
       "     5       948.392\n",
       "     6      1443.540\n",
       "     7      1676.430\n",
       "     8      1333.940\n",
       "     9       394.790\n",
       "     10      517.680\n",
       "     11     4139.566\n",
       "     12     2292.880"
      ]
     },
     "execution_count": 134,
     "metadata": {},
     "output_type": "execute_result"
    }
   ],
   "source": [
    "# Check the result\n",
    "monthly_sales"
   ]
  },
  {
   "cell_type": "code",
   "execution_count": 136,
   "metadata": {},
   "outputs": [
    {
     "data": {
      "image/png": "[encoded data removed]",
      "text/plain": [
       "<Figure size 1500x1000 with 1 Axes>"
      ]
     },
     "metadata": {},
     "output_type": "display_data"
    }
   ],
   "source": [
    "# Create a new figure with a specified size for the plot\n",
    "fig = plt.figure(figsize=(15,10))\n",
    "\n",
    "# Set the style of the plot to 'whitegrid' for a cleaner look\n",
    "sns.set_style(\"whitegrid\")\n",
    "\n",
    "# Create a line plot using seaborn to visualize the monthly sales data\n",
    "sns.lineplot(x='month',y='payment', hue='year', data=monthly_sales)\n",
    "plt.title('Yearly Sales',fontsize=15)\n",
    "plt.xlabel('month')\n",
    "plt.ylabel('sales')\n",
    "\n",
    "# Display the plot\n",
    "plt.show()"
   ]
  },
  {
   "cell_type": "markdown",
   "metadata": {},
   "source": [
    "### Quenstion 2: \n",
    "- Looking to the loyalty card holders, what is the age distribution of those customers."
   ]
  },
  {
   "cell_type": "code",
   "execution_count": 146,
   "metadata": {},
   "outputs": [
    {
     "data": {
      "text/html": [
       "<div>\n",
       "<style scoped>\n",
       "    .dataframe tbody tr th:only-of-type {\n",
       "        vertical-align: middle;\n",
       "    }\n",
       "\n",
       "    .dataframe tbody tr th {\n",
       "        vertical-align: top;\n",
       "    }\n",
       "\n",
       "    .dataframe thead th {\n",
       "        text-align: right;\n",
       "    }\n",
       "</style>\n",
       "<table border=\"1\" class=\"dataframe\">\n",
       "  <thead>\n",
       "    <tr style=\"text-align: right;\">\n",
       "      <th></th>\n",
       "      <th>id</th>\n",
       "      <th>first_name</th>\n",
       "      <th>last_name</th>\n",
       "      <th>age</th>\n",
       "      <th>city</th>\n",
       "      <th>email</th>\n",
       "    </tr>\n",
       "  </thead>\n",
       "  <tbody>\n",
       "    <tr>\n",
       "      <th>1</th>\n",
       "      <td>1002</td>\n",
       "      <td>Sara</td>\n",
       "      <td>Lee</td>\n",
       "      <td>33</td>\n",
       "      <td>Dublin</td>\n",
       "      <td>Sara.L@hotmail.com</td>\n",
       "    </tr>\n",
       "  </tbody>\n",
       "</table>\n",
       "</div>"
      ],
      "text/plain": [
       "     id first_name last_name  age    city               email\n",
       "1  1002       Sara       Lee   33  Dublin  Sara.L@hotmail.com"
      ]
     },
     "execution_count": 146,
     "metadata": {},
     "output_type": "execute_result"
    }
   ],
   "source": [
    "# Check the customer clean table\n",
    "customer_clean.head(1)"
   ]
  },
  {
   "cell_type": "code",
   "execution_count": 148,
   "metadata": {},
   "outputs": [
    {
     "data": {
      "image/png": "[encoded data removed]",
      "text/plain": [
       "<Figure size 1200x600 with 1 Axes>"
      ]
     },
     "metadata": {},
     "output_type": "display_data"
    }
   ],
   "source": [
    "# Create a new figure with a specified size for the plot\n",
    "plt.figure(figsize=(12, 6))\n",
    "\n",
    "# Create a count plot using seaborn to visualize the distribution of customer ages\n",
    "ax=sns.countplot(x='age',data=customer_clean,palette='viridis')\n",
    "\n",
    "# Set the title and labels of the plot\n",
    "ax.set_title(\"Customer's Age\",fontsize=15)\n",
    "ax.set_ylabel(\"Numbers of Customers\")\n",
    "\n",
    "# Display the plot\n",
    "plt.show()"
   ]
  },
  {
   "cell_type": "code",
   "execution_count": 150,
   "metadata": {},
   "outputs": [
    {
     "data": {
      "text/plain": [
       "age\n",
       "22    102\n",
       "23     85\n",
       "31     74\n",
       "28     69\n",
       "26     63\n",
       "24     57\n",
       "21     57\n",
       "30     55\n",
       "33     51\n",
       "25     43\n",
       "32     38\n",
       "20     33\n",
       "34     32\n",
       "27     32\n",
       "29     26\n",
       "19     24\n",
       "18     20\n",
       "59     10\n",
       "58      9\n",
       "68      8\n",
       "35      7\n",
       "37      7\n",
       "67      6\n",
       "42      6\n",
       "44      5\n",
       "45      5\n",
       "66      4\n",
       "43      4\n",
       "41      4\n",
       "49      4\n",
       "55      3\n",
       "46      3\n",
       "47      3\n",
       "71      3\n",
       "54      3\n",
       "36      2\n",
       "75      2\n",
       "40      2\n",
       "60      2\n",
       "70      2\n",
       "62      2\n",
       "38      2\n",
       "61      1\n",
       "57      1\n",
       "53      1\n",
       "Name: count, dtype: int64"
      ]
     },
     "execution_count": 150,
     "metadata": {},
     "output_type": "execute_result"
    }
   ],
   "source": [
    "# # Count the number of occurrences of each unique value in the 'age' column \n",
    "merged['age'].value_counts()"
   ]
  },
  {
   "cell_type": "code",
   "execution_count": 152,
   "metadata": {},
   "outputs": [
    {
     "data": {
      "text/plain": [
       "(28.6225,\n",
       " 26.0,\n",
       " 0    22\n",
       " Name: age, dtype: int64)"
      ]
     },
     "execution_count": 152,
     "metadata": {},
     "output_type": "execute_result"
    }
   ],
   "source": [
    "# Show the mean,median and mode of age \n",
    "customer_clean[\"age\"].mean(),customer_clean[\"age\"].median(),customer_clean[\"age\"].mode()"
   ]
  },
  {
   "cell_type": "code",
   "execution_count": 154,
   "metadata": {},
   "outputs": [
    {
     "data": {
      "image/png": "[encoded data removed]",
      "text/plain": [
       "<Figure size 1200x600 with 1 Axes>"
      ]
     },
     "metadata": {},
     "output_type": "display_data"
    }
   ],
   "source": [
    "# Create a new figure with a specified size for the plot\n",
    "fig = plt.figure(figsize=(12,6))\n",
    "\n",
    "# Create a histogram plot using seaborn to visualize the age distribution of loyalty card customers\n",
    "# 'bins' defines the range and number of bins for the histogram, here ranging from 10 to 80 with a bin width of 2\n",
    "ax=sns.histplot(customer_clean['age'],bins=np.arange(10, 80, 2),kde=False)\n",
    "\n",
    "# Set the title and ylabel of the plot\n",
    "ax.set_title(\"Age Distribution of the Loyalty Card Customers\",fontsize=15)\n",
    "ax.set_ylabel(\"Numbers of Customers\")\n",
    "\n",
    "# Display the plot\n",
    "plt.show()"
   ]
  },
  {
   "cell_type": "markdown",
   "metadata": {},
   "source": [
    "### Question 3: \n",
    "- Is there a relationship between the amount spend by a loyalty card holder and their age?"
   ]
  },
  {
   "cell_type": "code",
   "execution_count": 157,
   "metadata": {},
   "outputs": [
    {
     "data": {
      "text/plain": [
       "Index(['order_id', 'order_timestamp', 'delivered_timestamp', 'driver_id',\n",
       "       'restaurant_id', 'cust_id', 'delivery_region', 'discount_applied',\n",
       "       'discount_code', 'order_total', 'discount_pc', 'status', 'payment',\n",
       "       'id', 'first_name', 'last_name', 'age', 'city', 'email', 'year',\n",
       "       'month'],\n",
       "      dtype='object')"
      ]
     },
     "execution_count": 157,
     "metadata": {},
     "output_type": "execute_result"
    }
   ],
   "source": [
    "# Relation 1： destribution of amount spend and age by using scatter\n",
    "# Check the column name\n",
    "merged.columns"
   ]
  },
  {
   "cell_type": "code",
   "execution_count": 159,
   "metadata": {},
   "outputs": [],
   "source": [
    "# Calculate the total payment amount for each person,because one customer may have more than one orders\n",
    "group_age_sum_payment = merged.groupby(['cust_id', 'age'])['payment'].sum().to_frame('payment_total').reset_index()"
   ]
  },
  {
   "cell_type": "code",
   "execution_count": 161,
   "metadata": {},
   "outputs": [
    {
     "data": {
      "text/html": [
       "<div>\n",
       "<style scoped>\n",
       "    .dataframe tbody tr th:only-of-type {\n",
       "        vertical-align: middle;\n",
       "    }\n",
       "\n",
       "    .dataframe tbody tr th {\n",
       "        vertical-align: top;\n",
       "    }\n",
       "\n",
       "    .dataframe thead th {\n",
       "        text-align: right;\n",
       "    }\n",
       "</style>\n",
       "<table border=\"1\" class=\"dataframe\">\n",
       "  <thead>\n",
       "    <tr style=\"text-align: right;\">\n",
       "      <th></th>\n",
       "      <th>cust_id</th>\n",
       "      <th>age</th>\n",
       "      <th>payment_total</th>\n",
       "    </tr>\n",
       "  </thead>\n",
       "  <tbody>\n",
       "    <tr>\n",
       "      <th>0</th>\n",
       "      <td>1002</td>\n",
       "      <td>33</td>\n",
       "      <td>42.89</td>\n",
       "    </tr>\n",
       "    <tr>\n",
       "      <th>1</th>\n",
       "      <td>1003</td>\n",
       "      <td>23</td>\n",
       "      <td>38.16</td>\n",
       "    </tr>\n",
       "    <tr>\n",
       "      <th>2</th>\n",
       "      <td>1004</td>\n",
       "      <td>29</td>\n",
       "      <td>49.09</td>\n",
       "    </tr>\n",
       "    <tr>\n",
       "      <th>3</th>\n",
       "      <td>1005</td>\n",
       "      <td>22</td>\n",
       "      <td>66.98</td>\n",
       "    </tr>\n",
       "    <tr>\n",
       "      <th>4</th>\n",
       "      <td>1006</td>\n",
       "      <td>26</td>\n",
       "      <td>40.38</td>\n",
       "    </tr>\n",
       "    <tr>\n",
       "      <th>...</th>\n",
       "      <td>...</td>\n",
       "      <td>...</td>\n",
       "      <td>...</td>\n",
       "    </tr>\n",
       "    <tr>\n",
       "      <th>394</th>\n",
       "      <td>1402</td>\n",
       "      <td>27</td>\n",
       "      <td>24.92</td>\n",
       "    </tr>\n",
       "    <tr>\n",
       "      <th>395</th>\n",
       "      <td>1403</td>\n",
       "      <td>28</td>\n",
       "      <td>24.71</td>\n",
       "    </tr>\n",
       "    <tr>\n",
       "      <th>396</th>\n",
       "      <td>1404</td>\n",
       "      <td>55</td>\n",
       "      <td>24.63</td>\n",
       "    </tr>\n",
       "    <tr>\n",
       "      <th>397</th>\n",
       "      <td>1405</td>\n",
       "      <td>24</td>\n",
       "      <td>24.49</td>\n",
       "    </tr>\n",
       "    <tr>\n",
       "      <th>398</th>\n",
       "      <td>1406</td>\n",
       "      <td>22</td>\n",
       "      <td>24.49</td>\n",
       "    </tr>\n",
       "  </tbody>\n",
       "</table>\n",
       "<p>399 rows × 3 columns</p>\n",
       "</div>"
      ],
      "text/plain": [
       "     cust_id  age  payment_total\n",
       "0       1002   33          42.89\n",
       "1       1003   23          38.16\n",
       "2       1004   29          49.09\n",
       "3       1005   22          66.98\n",
       "4       1006   26          40.38\n",
       "..       ...  ...            ...\n",
       "394     1402   27          24.92\n",
       "395     1403   28          24.71\n",
       "396     1404   55          24.63\n",
       "397     1405   24          24.49\n",
       "398     1406   22          24.49\n",
       "\n",
       "[399 rows x 3 columns]"
      ]
     },
     "execution_count": 161,
     "metadata": {},
     "output_type": "execute_result"
    }
   ],
   "source": [
    "# Check the result\n",
    "group_age_sum_payment"
   ]
  },
  {
   "cell_type": "code",
   "execution_count": 163,
   "metadata": {},
   "outputs": [
    {
     "data": {
      "image/png": "[encoded data removed]",
      "text/plain": [
       "<Figure size 1200x1000 with 1 Axes>"
      ]
     },
     "metadata": {},
     "output_type": "display_data"
    }
   ],
   "source": [
    "# Create a new figure with a specified size for the plot\n",
    "plt.figure(figsize=(12, 10))\n",
    "\n",
    "# Create a scatter plot using seaborn to visualize the relationship between total payment and age\n",
    "ax=sns.scatterplot(x=group_age_sum_payment[\"payment_total\"], y=group_age_sum_payment[\"age\"],data=group_age_sum_payment) \n",
    "\n",
    "# Compute the line of best fit using linear regression\n",
    "x = group_age_sum_payment[\"payment_total\"]\n",
    "y = group_age_sum_payment[\"age\"]\n",
    "\n",
    "# Calculate the slope (a) and intercept (b) of the line of best fit\n",
    "a, b = np.polyfit(x,y,1)\n",
    "\n",
    "# Plot the line of best fit on the scatter plot\n",
    "ax.plot(x, a*x+b,  color='red', linestyle='--', linewidth=2)\n",
    "\n",
    "# Set the title of the plot to describe the relationship being shown\n",
    "plt.title('Age vs. Actual Payment',fontsize=15)\n",
    "\n",
    "# Display the plot\n",
    "plt.show()"
   ]
  },
  {
   "cell_type": "code",
   "execution_count": 165,
   "metadata": {},
   "outputs": [
    {
     "data": {
      "image/png": "[encoded data removed]",
      "text/plain": [
       "<Figure size 1200x1000 with 1 Axes>"
      ]
     },
     "metadata": {},
     "output_type": "display_data"
    }
   ],
   "source": [
    "# Relation 2： total amount spend trends with age by using linechart\n",
    "# Create a new figure with a specified size for the plot\n",
    "plt.figure(figsize=(12, 10))\n",
    "\n",
    "# Create a line plot using seaborn to visualize the trend of total amount spent by age\n",
    "sns.lineplot(x='age',y='payment_total', data=group_age_sum_payment)\n",
    "\n",
    "# Set the title and labels of the plot\n",
    "plt.title('Amount spend trends by age',fontsize=15)\n",
    "plt.xlabel('Age')\n",
    "plt.ylabel=('Amount spend')\n",
    "\n",
    "# Display the plot\n",
    "plt.show()"
   ]
  },
  {
   "cell_type": "code",
   "execution_count": 167,
   "metadata": {},
   "outputs": [],
   "source": [
    "# Compute the correlation matrix for 'age' and 'payment_total'\n",
    "corr=group_age_sum_payment[['age','payment_total']].corr()"
   ]
  },
  {
   "cell_type": "code",
   "execution_count": 169,
   "metadata": {},
   "outputs": [
    {
     "data": {
      "text/html": [
       "<div>\n",
       "<style scoped>\n",
       "    .dataframe tbody tr th:only-of-type {\n",
       "        vertical-align: middle;\n",
       "    }\n",
       "\n",
       "    .dataframe tbody tr th {\n",
       "        vertical-align: top;\n",
       "    }\n",
       "\n",
       "    .dataframe thead th {\n",
       "        text-align: right;\n",
       "    }\n",
       "</style>\n",
       "<table border=\"1\" class=\"dataframe\">\n",
       "  <thead>\n",
       "    <tr style=\"text-align: right;\">\n",
       "      <th></th>\n",
       "      <th>age</th>\n",
       "      <th>payment_total</th>\n",
       "    </tr>\n",
       "  </thead>\n",
       "  <tbody>\n",
       "    <tr>\n",
       "      <th>age</th>\n",
       "      <td>1.000000</td>\n",
       "      <td>0.042766</td>\n",
       "    </tr>\n",
       "    <tr>\n",
       "      <th>payment_total</th>\n",
       "      <td>0.042766</td>\n",
       "      <td>1.000000</td>\n",
       "    </tr>\n",
       "  </tbody>\n",
       "</table>\n",
       "</div>"
      ],
      "text/plain": [
       "                    age  payment_total\n",
       "age            1.000000       0.042766\n",
       "payment_total  0.042766       1.000000"
      ]
     },
     "execution_count": 169,
     "metadata": {},
     "output_type": "execute_result"
    }
   ],
   "source": [
    "# Display the correlation matrix\n",
    "corr"
   ]
  },
  {
   "cell_type": "code",
   "execution_count": 177,
   "metadata": {},
   "outputs": [
    {
     "data": {
      "image/png": "[encoded data removed]",
      "text/plain": [
       "<Figure size 1300x600 with 2 Axes>"
      ]
     },
     "metadata": {},
     "output_type": "display_data"
    }
   ],
   "source": [
    "# Create a new figure with a specified size for the heatmap\n",
    "plt.figure(figsize=(13, 6))\n",
    "\n",
    "# Create a heatmap using seaborn to visualize the correlation matrix\n",
    "sns.heatmap(corr,cmap='summer',annot=True)\n",
    "\n",
    "# Set the title of the heatmap to describe what is being shown\n",
    "plt.title('Correlation Heatmap of Age and Total Payment', fontsize=15)\n",
    "\n",
    "# Display the heatmap\n",
    "plt.show()"
   ]
  },
  {
   "cell_type": "markdown",
   "metadata": {},
   "source": [
    "### Question 4: \n",
    "- Is there a relationship between the amount of a payment, the age of a person and whether or not they used discount codes.\n"
   ]
  },
  {
   "cell_type": "code",
   "execution_count": 180,
   "metadata": {},
   "outputs": [
    {
     "data": {
      "text/plain": [
       "discount_applied\n",
       "False    882\n",
       "True      90\n",
       "Name: count, dtype: int64"
      ]
     },
     "execution_count": 180,
     "metadata": {},
     "output_type": "execute_result"
    }
   ],
   "source": [
    "# Count the number of occurrences of each unique value in the 'discount_applied' column \n",
    "merged['discount_applied'].value_counts()"
   ]
  },
  {
   "cell_type": "code",
   "execution_count": 182,
   "metadata": {},
   "outputs": [],
   "source": [
    "# Create a DataFrame with selected columns\n",
    "discount_df=merged[['cust_id','age','payment','discount_applied','discount_code']]"
   ]
  },
  {
   "cell_type": "code",
   "execution_count": 184,
   "metadata": {},
   "outputs": [
    {
     "data": {
      "text/html": [
       "<div>\n",
       "<style scoped>\n",
       "    .dataframe tbody tr th:only-of-type {\n",
       "        vertical-align: middle;\n",
       "    }\n",
       "\n",
       "    .dataframe tbody tr th {\n",
       "        vertical-align: top;\n",
       "    }\n",
       "\n",
       "    .dataframe thead th {\n",
       "        text-align: right;\n",
       "    }\n",
       "</style>\n",
       "<table border=\"1\" class=\"dataframe\">\n",
       "  <thead>\n",
       "    <tr style=\"text-align: right;\">\n",
       "      <th></th>\n",
       "      <th>cust_id</th>\n",
       "      <th>age</th>\n",
       "      <th>payment</th>\n",
       "      <th>discount_applied</th>\n",
       "      <th>discount_code</th>\n",
       "    </tr>\n",
       "  </thead>\n",
       "  <tbody>\n",
       "    <tr>\n",
       "      <th>0</th>\n",
       "      <td>1016</td>\n",
       "      <td>24</td>\n",
       "      <td>55.568</td>\n",
       "      <td>True</td>\n",
       "      <td>BLACKFRIDAY21</td>\n",
       "    </tr>\n",
       "    <tr>\n",
       "      <th>1</th>\n",
       "      <td>1016</td>\n",
       "      <td>24</td>\n",
       "      <td>16.550</td>\n",
       "      <td>False</td>\n",
       "      <td>NaN</td>\n",
       "    </tr>\n",
       "    <tr>\n",
       "      <th>2</th>\n",
       "      <td>1016</td>\n",
       "      <td>24</td>\n",
       "      <td>46.620</td>\n",
       "      <td>False</td>\n",
       "      <td>NaN</td>\n",
       "    </tr>\n",
       "    <tr>\n",
       "      <th>3</th>\n",
       "      <td>1016</td>\n",
       "      <td>24</td>\n",
       "      <td>26.660</td>\n",
       "      <td>False</td>\n",
       "      <td>NaN</td>\n",
       "    </tr>\n",
       "    <tr>\n",
       "      <th>4</th>\n",
       "      <td>1017</td>\n",
       "      <td>23</td>\n",
       "      <td>69.400</td>\n",
       "      <td>False</td>\n",
       "      <td>NaN</td>\n",
       "    </tr>\n",
       "  </tbody>\n",
       "</table>\n",
       "</div>"
      ],
      "text/plain": [
       "   cust_id  age  payment  discount_applied  discount_code\n",
       "0     1016   24   55.568              True  BLACKFRIDAY21\n",
       "1     1016   24   16.550             False            NaN\n",
       "2     1016   24   46.620             False            NaN\n",
       "3     1016   24   26.660             False            NaN\n",
       "4     1017   23   69.400             False            NaN"
      ]
     },
     "execution_count": 184,
     "metadata": {},
     "output_type": "execute_result"
    }
   ],
   "source": [
    "# Show some of the result\n",
    "discount_df.head()"
   ]
  },
  {
   "cell_type": "code",
   "execution_count": 186,
   "metadata": {},
   "outputs": [
    {
     "data": {
      "image/png": "[encoded data removed]",
      "text/plain": [
       "<Figure size 1200x1000 with 1 Axes>"
      ]
     },
     "metadata": {},
     "output_type": "display_data"
    }
   ],
   "source": [
    "# STEP 1 = SCATTERPLOT OF DISCOUNT APPLIED TRUE / FALSE\n",
    "# Create a new figure with a specified size for the plot\n",
    "plt.figure(figsize=(12, 10))\n",
    "\n",
    "# Create a scatter plot to visualize the relationship between payment amount and age\n",
    "ax=sns.scatterplot(x='payment',y='age', hue='discount_applied', data=discount_df)\n",
    "\n",
    "# Set the title and labels of the plot \n",
    "ax.set_title('Amount spend vs. age',fontsize=15)\n",
    "ax.set_xlabel('Amount spend')\n",
    "ax.set_ylabel('Age')\n",
    "\n",
    "# Display the plot\n",
    "plt.show()"
   ]
  },
  {
   "cell_type": "code",
   "execution_count": 192,
   "metadata": {},
   "outputs": [
    {
     "data": {
      "image/png": "[encoded data removed]",
      "text/plain": [
       "<Figure size 1200x1000 with 1 Axes>"
      ]
     },
     "metadata": {},
     "output_type": "display_data"
    }
   ],
   "source": [
    "# STEP 2 = SCATTERPLOT OF ACTUAL DISCOUNTS APPLIED\n",
    "# Create a new figure with a specified size for the plot\n",
    "plt.figure(figsize=(12,10))\n",
    "\n",
    "# Create a scatter plot to visualize the relationship between age and payment amount\n",
    "ax=sns.scatterplot(x='age',y='payment', hue='discount_code', data=discount_df)\n",
    "\n",
    "# Set the title and lables of the plot\n",
    "ax.set_title('Amount spend vs. age',fontsize=15)\n",
    "ax.set_xlabel('Age') \n",
    "ax.set_ylabel('Amount spend')\n",
    "\n",
    "# Display the plot\n",
    "plt.show()"
   ]
  },
  {
   "cell_type": "markdown",
   "metadata": {},
   "source": [
    "### Question 5: \n",
    "- Compare the sales for 2022 across all regions"
   ]
  },
  {
   "cell_type": "code",
   "execution_count": 197,
   "metadata": {},
   "outputs": [],
   "source": [
    "# STEP 1 = CALCULATE TOTAL SALES PER REGION\n",
    "region_sales2022=sales_2022.groupby(['delivery_region'])['payment'].sum().reset_index().sort_values(by='payment', ascending=False)"
   ]
  },
  {
   "cell_type": "code",
   "execution_count": 199,
   "metadata": {},
   "outputs": [
    {
     "data": {
      "text/html": [
       "<div>\n",
       "<style scoped>\n",
       "    .dataframe tbody tr th:only-of-type {\n",
       "        vertical-align: middle;\n",
       "    }\n",
       "\n",
       "    .dataframe tbody tr th {\n",
       "        vertical-align: top;\n",
       "    }\n",
       "\n",
       "    .dataframe thead th {\n",
       "        text-align: right;\n",
       "    }\n",
       "</style>\n",
       "<table border=\"1\" class=\"dataframe\">\n",
       "  <thead>\n",
       "    <tr style=\"text-align: right;\">\n",
       "      <th></th>\n",
       "      <th>delivery_region</th>\n",
       "      <th>payment</th>\n",
       "    </tr>\n",
       "  </thead>\n",
       "  <tbody>\n",
       "    <tr>\n",
       "      <th>1</th>\n",
       "      <td>Dublin</td>\n",
       "      <td>6732.098</td>\n",
       "    </tr>\n",
       "    <tr>\n",
       "      <th>0</th>\n",
       "      <td>Cork</td>\n",
       "      <td>3456.407</td>\n",
       "    </tr>\n",
       "    <tr>\n",
       "      <th>2</th>\n",
       "      <td>Galway</td>\n",
       "      <td>2650.840</td>\n",
       "    </tr>\n",
       "    <tr>\n",
       "      <th>3</th>\n",
       "      <td>Kerry</td>\n",
       "      <td>1399.640</td>\n",
       "    </tr>\n",
       "    <tr>\n",
       "      <th>5</th>\n",
       "      <td>Sligo</td>\n",
       "      <td>885.080</td>\n",
       "    </tr>\n",
       "    <tr>\n",
       "      <th>4</th>\n",
       "      <td>Leitrim</td>\n",
       "      <td>493.890</td>\n",
       "    </tr>\n",
       "  </tbody>\n",
       "</table>\n",
       "</div>"
      ],
      "text/plain": [
       "  delivery_region   payment\n",
       "1          Dublin  6732.098\n",
       "0            Cork  3456.407\n",
       "2          Galway  2650.840\n",
       "3           Kerry  1399.640\n",
       "5           Sligo   885.080\n",
       "4         Leitrim   493.890"
      ]
     },
     "execution_count": 199,
     "metadata": {},
     "output_type": "execute_result"
    }
   ],
   "source": [
    "# Check the result\n",
    "region_sales2022"
   ]
  },
  {
   "cell_type": "code",
   "execution_count": 203,
   "metadata": {},
   "outputs": [
    {
     "data": {
      "image/png": "[encoded data removed]",
      "text/plain": [
       "<Figure size 1200x1000 with 1 Axes>"
      ]
     },
     "metadata": {},
     "output_type": "display_data"
    }
   ],
   "source": [
    "# STEP 2 = GRAPH THE REGIONS BY TOTAL SALES IN A BAR PLOT\n",
    "# Create a new figure and axis with a specified size for the plot\n",
    "figure,ax=plt.subplots(figsize=(12,10))\n",
    "\n",
    "# Set the style of the plot to 'darkgrid' for a grid backgro\n",
    "sns.set(style='darkgrid')\n",
    "\n",
    "# Create a bar plot to visualize sales by delivery region for 2022\n",
    "ax=sns.barplot(x='delivery_region', y='payment', data=region_sales2022, palette = \"Spectral\")\n",
    "\n",
    "# Set the title and labels of the plot\n",
    "ax.set_title(\"Region Sales in 2022\",fontsize=15)\n",
    "ax.set_xlabel('Regions')\n",
    "ax.set_ylabel('Sales')\n",
    "\n",
    "# Display the plot\n",
    "plt.show()"
   ]
  },
  {
   "cell_type": "markdown",
   "metadata": {},
   "source": [
    "### Question 6: \n",
    "- Christmas is coming and Happy Deliveries want to reward their high spending customers. Who are the top 10 highest spending customers in 2022? Find their ID, name and email address for the marketing department to contact them with a reward. \n"
   ]
  },
  {
   "cell_type": "code",
   "execution_count": 206,
   "metadata": {},
   "outputs": [],
   "source": [
    "# Step 1 = Get the total spent in 2022\n",
    "top_22=sales_2022.groupby(['cust_id'])['payment'].sum().to_frame('total_spent').sort_values(by='total_spent',ascending=False).reset_index()"
   ]
  },
  {
   "cell_type": "code",
   "execution_count": 208,
   "metadata": {},
   "outputs": [
    {
     "data": {
      "text/html": [
       "<div>\n",
       "<style scoped>\n",
       "    .dataframe tbody tr th:only-of-type {\n",
       "        vertical-align: middle;\n",
       "    }\n",
       "\n",
       "    .dataframe tbody tr th {\n",
       "        vertical-align: top;\n",
       "    }\n",
       "\n",
       "    .dataframe thead th {\n",
       "        text-align: right;\n",
       "    }\n",
       "</style>\n",
       "<table border=\"1\" class=\"dataframe\">\n",
       "  <thead>\n",
       "    <tr style=\"text-align: right;\">\n",
       "      <th></th>\n",
       "      <th>cust_id</th>\n",
       "      <th>total_spent</th>\n",
       "    </tr>\n",
       "  </thead>\n",
       "  <tbody>\n",
       "    <tr>\n",
       "      <th>0</th>\n",
       "      <td>1027</td>\n",
       "      <td>146.492</td>\n",
       "    </tr>\n",
       "    <tr>\n",
       "      <th>1</th>\n",
       "      <td>1126</td>\n",
       "      <td>146.300</td>\n",
       "    </tr>\n",
       "    <tr>\n",
       "      <th>2</th>\n",
       "      <td>1009</td>\n",
       "      <td>131.640</td>\n",
       "    </tr>\n",
       "    <tr>\n",
       "      <th>3</th>\n",
       "      <td>1023</td>\n",
       "      <td>118.300</td>\n",
       "    </tr>\n",
       "    <tr>\n",
       "      <th>4</th>\n",
       "      <td>1021</td>\n",
       "      <td>115.130</td>\n",
       "    </tr>\n",
       "  </tbody>\n",
       "</table>\n",
       "</div>"
      ],
      "text/plain": [
       "   cust_id  total_spent\n",
       "0     1027      146.492\n",
       "1     1126      146.300\n",
       "2     1009      131.640\n",
       "3     1023      118.300\n",
       "4     1021      115.130"
      ]
     },
     "execution_count": 208,
     "metadata": {},
     "output_type": "execute_result"
    }
   ],
   "source": [
    "# Check the result\n",
    "top_22.head()"
   ]
  },
  {
   "cell_type": "code",
   "execution_count": 210,
   "metadata": {},
   "outputs": [],
   "source": [
    "# Step 2=Check the ranking if there is a duplicated rank number\n",
    "# Adding extra column called 'rank_min'\n",
    "top_22['rank_min']=top_22['total_spent'].rank(method='min',ascending=False)"
   ]
  },
  {
   "cell_type": "code",
   "execution_count": 212,
   "metadata": {},
   "outputs": [],
   "source": [
    "# Adding extra column called 'rank_dense'\n",
    "top_22['rank_dense']=top_22['total_spent'].rank(method='dense',ascending=False)"
   ]
  },
  {
   "cell_type": "code",
   "execution_count": 214,
   "metadata": {},
   "outputs": [
    {
     "data": {
      "text/html": [
       "<div>\n",
       "<style scoped>\n",
       "    .dataframe tbody tr th:only-of-type {\n",
       "        vertical-align: middle;\n",
       "    }\n",
       "\n",
       "    .dataframe tbody tr th {\n",
       "        vertical-align: top;\n",
       "    }\n",
       "\n",
       "    .dataframe thead th {\n",
       "        text-align: right;\n",
       "    }\n",
       "</style>\n",
       "<table border=\"1\" class=\"dataframe\">\n",
       "  <thead>\n",
       "    <tr style=\"text-align: right;\">\n",
       "      <th></th>\n",
       "      <th>total_spent</th>\n",
       "      <th>rank_min</th>\n",
       "      <th>rank_dense</th>\n",
       "    </tr>\n",
       "  </thead>\n",
       "  <tbody>\n",
       "    <tr>\n",
       "      <th>0</th>\n",
       "      <td>146.492</td>\n",
       "      <td>1.0</td>\n",
       "      <td>1.0</td>\n",
       "    </tr>\n",
       "    <tr>\n",
       "      <th>1</th>\n",
       "      <td>146.300</td>\n",
       "      <td>2.0</td>\n",
       "      <td>2.0</td>\n",
       "    </tr>\n",
       "    <tr>\n",
       "      <th>2</th>\n",
       "      <td>131.640</td>\n",
       "      <td>3.0</td>\n",
       "      <td>3.0</td>\n",
       "    </tr>\n",
       "    <tr>\n",
       "      <th>3</th>\n",
       "      <td>118.300</td>\n",
       "      <td>4.0</td>\n",
       "      <td>4.0</td>\n",
       "    </tr>\n",
       "    <tr>\n",
       "      <th>4</th>\n",
       "      <td>115.130</td>\n",
       "      <td>5.0</td>\n",
       "      <td>5.0</td>\n",
       "    </tr>\n",
       "    <tr>\n",
       "      <th>5</th>\n",
       "      <td>105.220</td>\n",
       "      <td>6.0</td>\n",
       "      <td>6.0</td>\n",
       "    </tr>\n",
       "    <tr>\n",
       "      <th>6</th>\n",
       "      <td>103.940</td>\n",
       "      <td>7.0</td>\n",
       "      <td>7.0</td>\n",
       "    </tr>\n",
       "    <tr>\n",
       "      <th>7</th>\n",
       "      <td>102.080</td>\n",
       "      <td>8.0</td>\n",
       "      <td>8.0</td>\n",
       "    </tr>\n",
       "    <tr>\n",
       "      <th>8</th>\n",
       "      <td>99.380</td>\n",
       "      <td>9.0</td>\n",
       "      <td>9.0</td>\n",
       "    </tr>\n",
       "    <tr>\n",
       "      <th>9</th>\n",
       "      <td>96.176</td>\n",
       "      <td>10.0</td>\n",
       "      <td>10.0</td>\n",
       "    </tr>\n",
       "    <tr>\n",
       "      <th>10</th>\n",
       "      <td>95.650</td>\n",
       "      <td>11.0</td>\n",
       "      <td>11.0</td>\n",
       "    </tr>\n",
       "    <tr>\n",
       "      <th>11</th>\n",
       "      <td>92.460</td>\n",
       "      <td>12.0</td>\n",
       "      <td>12.0</td>\n",
       "    </tr>\n",
       "    <tr>\n",
       "      <th>12</th>\n",
       "      <td>87.592</td>\n",
       "      <td>13.0</td>\n",
       "      <td>13.0</td>\n",
       "    </tr>\n",
       "    <tr>\n",
       "      <th>13</th>\n",
       "      <td>87.030</td>\n",
       "      <td>14.0</td>\n",
       "      <td>14.0</td>\n",
       "    </tr>\n",
       "    <tr>\n",
       "      <th>14</th>\n",
       "      <td>86.880</td>\n",
       "      <td>15.0</td>\n",
       "      <td>15.0</td>\n",
       "    </tr>\n",
       "    <tr>\n",
       "      <th>15</th>\n",
       "      <td>86.636</td>\n",
       "      <td>16.0</td>\n",
       "      <td>16.0</td>\n",
       "    </tr>\n",
       "    <tr>\n",
       "      <th>16</th>\n",
       "      <td>84.898</td>\n",
       "      <td>17.0</td>\n",
       "      <td>17.0</td>\n",
       "    </tr>\n",
       "    <tr>\n",
       "      <th>17</th>\n",
       "      <td>83.320</td>\n",
       "      <td>18.0</td>\n",
       "      <td>18.0</td>\n",
       "    </tr>\n",
       "    <tr>\n",
       "      <th>18</th>\n",
       "      <td>82.104</td>\n",
       "      <td>19.0</td>\n",
       "      <td>19.0</td>\n",
       "    </tr>\n",
       "    <tr>\n",
       "      <th>19</th>\n",
       "      <td>79.500</td>\n",
       "      <td>20.0</td>\n",
       "      <td>20.0</td>\n",
       "    </tr>\n",
       "  </tbody>\n",
       "</table>\n",
       "</div>"
      ],
      "text/plain": [
       "    total_spent  rank_min  rank_dense\n",
       "0       146.492       1.0         1.0\n",
       "1       146.300       2.0         2.0\n",
       "2       131.640       3.0         3.0\n",
       "3       118.300       4.0         4.0\n",
       "4       115.130       5.0         5.0\n",
       "5       105.220       6.0         6.0\n",
       "6       103.940       7.0         7.0\n",
       "7       102.080       8.0         8.0\n",
       "8        99.380       9.0         9.0\n",
       "9        96.176      10.0        10.0\n",
       "10       95.650      11.0        11.0\n",
       "11       92.460      12.0        12.0\n",
       "12       87.592      13.0        13.0\n",
       "13       87.030      14.0        14.0\n",
       "14       86.880      15.0        15.0\n",
       "15       86.636      16.0        16.0\n",
       "16       84.898      17.0        17.0\n",
       "17       83.320      18.0        18.0\n",
       "18       82.104      19.0        19.0\n",
       "19       79.500      20.0        20.0"
      ]
     },
     "execution_count": 214,
     "metadata": {},
     "output_type": "execute_result"
    }
   ],
   "source": [
    "# Display the top 20 rows of the DataFrame with columns for total amount spent, minimum rank, and dense rank\n",
    "top_22[['total_spent','rank_min','rank_dense']].head(20)"
   ]
  },
  {
   "cell_type": "code",
   "execution_count": 216,
   "metadata": {},
   "outputs": [],
   "source": [
    "# Filter to under 10\n",
    "result=top_22.loc[top_22['rank_min']<11]"
   ]
  },
  {
   "cell_type": "code",
   "execution_count": 218,
   "metadata": {},
   "outputs": [],
   "source": [
    "# Recreate the dataframe\n",
    "result = pd.DataFrame(result)"
   ]
  },
  {
   "cell_type": "code",
   "execution_count": 220,
   "metadata": {},
   "outputs": [],
   "source": [
    "# Remove the 'rank_min' and 'rank_dense' columns from the DataFrame and update it in place\n",
    "result.drop(['rank_min','rank_dense'],axis=1,inplace=True)"
   ]
  },
  {
   "cell_type": "code",
   "execution_count": 222,
   "metadata": {},
   "outputs": [
    {
     "data": {
      "text/html": [
       "<div>\n",
       "<style scoped>\n",
       "    .dataframe tbody tr th:only-of-type {\n",
       "        vertical-align: middle;\n",
       "    }\n",
       "\n",
       "    .dataframe tbody tr th {\n",
       "        vertical-align: top;\n",
       "    }\n",
       "\n",
       "    .dataframe thead th {\n",
       "        text-align: right;\n",
       "    }\n",
       "</style>\n",
       "<table border=\"1\" class=\"dataframe\">\n",
       "  <thead>\n",
       "    <tr style=\"text-align: right;\">\n",
       "      <th></th>\n",
       "      <th>id</th>\n",
       "      <th>first_name</th>\n",
       "      <th>last_name</th>\n",
       "      <th>age</th>\n",
       "      <th>city</th>\n",
       "      <th>email</th>\n",
       "    </tr>\n",
       "  </thead>\n",
       "  <tbody>\n",
       "    <tr>\n",
       "      <th>1</th>\n",
       "      <td>1002</td>\n",
       "      <td>Sara</td>\n",
       "      <td>Lee</td>\n",
       "      <td>33</td>\n",
       "      <td>Dublin</td>\n",
       "      <td>Sara.L@hotmail.com</td>\n",
       "    </tr>\n",
       "    <tr>\n",
       "      <th>2</th>\n",
       "      <td>1003</td>\n",
       "      <td>Michael</td>\n",
       "      <td>Davidson</td>\n",
       "      <td>23</td>\n",
       "      <td>Dublin</td>\n",
       "      <td>MichaelDavidson82@att.com</td>\n",
       "    </tr>\n",
       "    <tr>\n",
       "      <th>3</th>\n",
       "      <td>1004</td>\n",
       "      <td>Willie</td>\n",
       "      <td>Sims</td>\n",
       "      <td>29</td>\n",
       "      <td>Sligo</td>\n",
       "      <td>Willie_S@yahoo.com</td>\n",
       "    </tr>\n",
       "    <tr>\n",
       "      <th>4</th>\n",
       "      <td>1005</td>\n",
       "      <td>Carly</td>\n",
       "      <td>Armstrong</td>\n",
       "      <td>22</td>\n",
       "      <td>Mayo</td>\n",
       "      <td>CArmstrong@mail.com</td>\n",
       "    </tr>\n",
       "    <tr>\n",
       "      <th>5</th>\n",
       "      <td>1006</td>\n",
       "      <td>Greg</td>\n",
       "      <td>Hardin</td>\n",
       "      <td>26</td>\n",
       "      <td>Leitrim</td>\n",
       "      <td>Hardin_Greg@gmail.com</td>\n",
       "    </tr>\n",
       "  </tbody>\n",
       "</table>\n",
       "</div>"
      ],
      "text/plain": [
       "     id first_name  last_name  age     city                      email\n",
       "1  1002       Sara        Lee   33   Dublin         Sara.L@hotmail.com\n",
       "2  1003    Michael   Davidson   23   Dublin  MichaelDavidson82@att.com\n",
       "3  1004     Willie       Sims   29    Sligo         Willie_S@yahoo.com\n",
       "4  1005      Carly  Armstrong   22     Mayo        CArmstrong@mail.com\n",
       "5  1006       Greg     Hardin   26  Leitrim      Hardin_Greg@gmail.com"
      ]
     },
     "execution_count": 222,
     "metadata": {},
     "output_type": "execute_result"
    }
   ],
   "source": [
    "# Check the result\n",
    "customer_clean.head()"
   ]
  },
  {
   "cell_type": "code",
   "execution_count": 228,
   "metadata": {},
   "outputs": [],
   "source": [
    "# Step 3 = Rejoin to original df with left join\n",
    "result_details=pd.merge(result,customer_clean,left_on='cust_id',right_on='id',how='left')[['cust_id','total_spent','first_name','last_name','email']]"
   ]
  },
  {
   "cell_type": "code",
   "execution_count": 233,
   "metadata": {},
   "outputs": [
    {
     "data": {
      "text/html": [
       "<div>\n",
       "<style scoped>\n",
       "    .dataframe tbody tr th:only-of-type {\n",
       "        vertical-align: middle;\n",
       "    }\n",
       "\n",
       "    .dataframe tbody tr th {\n",
       "        vertical-align: top;\n",
       "    }\n",
       "\n",
       "    .dataframe thead th {\n",
       "        text-align: right;\n",
       "    }\n",
       "</style>\n",
       "<table border=\"1\" class=\"dataframe\">\n",
       "  <thead>\n",
       "    <tr style=\"text-align: right;\">\n",
       "      <th></th>\n",
       "      <th>cust_id</th>\n",
       "      <th>total_spent</th>\n",
       "      <th>first_name</th>\n",
       "      <th>last_name</th>\n",
       "      <th>email</th>\n",
       "    </tr>\n",
       "  </thead>\n",
       "  <tbody>\n",
       "    <tr>\n",
       "      <th>0</th>\n",
       "      <td>1027</td>\n",
       "      <td>146.492</td>\n",
       "      <td>Jason</td>\n",
       "      <td>Dudley</td>\n",
       "      <td>Jason_D@zoho.com</td>\n",
       "    </tr>\n",
       "    <tr>\n",
       "      <th>1</th>\n",
       "      <td>1126</td>\n",
       "      <td>146.300</td>\n",
       "      <td>Deanna</td>\n",
       "      <td>Knight</td>\n",
       "      <td>DeannaKnight@protonmail.com</td>\n",
       "    </tr>\n",
       "    <tr>\n",
       "      <th>2</th>\n",
       "      <td>1009</td>\n",
       "      <td>131.640</td>\n",
       "      <td>Sheri</td>\n",
       "      <td>Aguilar</td>\n",
       "      <td>Aguilar.Sheri22@att.com</td>\n",
       "    </tr>\n",
       "    <tr>\n",
       "      <th>3</th>\n",
       "      <td>1023</td>\n",
       "      <td>118.300</td>\n",
       "      <td>Gabrielle</td>\n",
       "      <td>Morgan</td>\n",
       "      <td>GMorgan48@mail.com</td>\n",
       "    </tr>\n",
       "    <tr>\n",
       "      <th>4</th>\n",
       "      <td>1021</td>\n",
       "      <td>115.130</td>\n",
       "      <td>Joshua</td>\n",
       "      <td>Kidd</td>\n",
       "      <td>Joshua_K@att.com</td>\n",
       "    </tr>\n",
       "    <tr>\n",
       "      <th>5</th>\n",
       "      <td>1018</td>\n",
       "      <td>105.220</td>\n",
       "      <td>David</td>\n",
       "      <td>Snyder</td>\n",
       "      <td>David.S@hotmail.com</td>\n",
       "    </tr>\n",
       "    <tr>\n",
       "      <th>6</th>\n",
       "      <td>1227</td>\n",
       "      <td>103.940</td>\n",
       "      <td>Andrew</td>\n",
       "      <td>Cantu</td>\n",
       "      <td>Andrew_Cantu@yandex.com</td>\n",
       "    </tr>\n",
       "    <tr>\n",
       "      <th>7</th>\n",
       "      <td>1028</td>\n",
       "      <td>102.080</td>\n",
       "      <td>David</td>\n",
       "      <td>Murphy</td>\n",
       "      <td>Murphy.David@mail.com</td>\n",
       "    </tr>\n",
       "    <tr>\n",
       "      <th>8</th>\n",
       "      <td>1059</td>\n",
       "      <td>99.380</td>\n",
       "      <td>Brent</td>\n",
       "      <td>Harrell</td>\n",
       "      <td>Harrell.Brent13@protonmail.com</td>\n",
       "    </tr>\n",
       "    <tr>\n",
       "      <th>9</th>\n",
       "      <td>1029</td>\n",
       "      <td>96.176</td>\n",
       "      <td>Meagan</td>\n",
       "      <td>Gonzalez</td>\n",
       "      <td>Gonzalez_Meagan43@mail.com</td>\n",
       "    </tr>\n",
       "  </tbody>\n",
       "</table>\n",
       "</div>"
      ],
      "text/plain": [
       "   cust_id  total_spent first_name last_name                           email\n",
       "0     1027      146.492      Jason    Dudley                Jason_D@zoho.com\n",
       "1     1126      146.300     Deanna    Knight     DeannaKnight@protonmail.com\n",
       "2     1009      131.640      Sheri   Aguilar         Aguilar.Sheri22@att.com\n",
       "3     1023      118.300  Gabrielle    Morgan              GMorgan48@mail.com\n",
       "4     1021      115.130     Joshua      Kidd                Joshua_K@att.com\n",
       "5     1018      105.220      David    Snyder             David.S@hotmail.com\n",
       "6     1227      103.940     Andrew     Cantu         Andrew_Cantu@yandex.com\n",
       "7     1028      102.080      David    Murphy           Murphy.David@mail.com\n",
       "8     1059       99.380      Brent   Harrell  Harrell.Brent13@protonmail.com\n",
       "9     1029       96.176     Meagan  Gonzalez      Gonzalez_Meagan43@mail.com"
      ]
     },
     "execution_count": 233,
     "metadata": {},
     "output_type": "execute_result"
    }
   ],
   "source": [
    "# Check the result\n",
    "result_details"
   ]
  },
  {
   "cell_type": "markdown",
   "metadata": {},
   "source": [
    "### Question 7: \n",
    "- In order to keep up with the anticipated increase in sales over Christmas, Happy Deliveries want to find what are the top 3 restaurants, so they can allocate their resources more efficiently. What are the top 3 restaurants in terms of sales for 2022? \n"
   ]
  },
  {
   "cell_type": "code",
   "execution_count": 236,
   "metadata": {},
   "outputs": [],
   "source": [
    "# Summarize total sales per restaurant, sort in descending order, and reset index\n",
    "top_rest_22=sales_2022.groupby(['restaurant_id'])['payment'].sum().to_frame('restaurant_sales').sort_values(by='restaurant_sales',ascending=False).reset_index()"
   ]
  },
  {
   "cell_type": "code",
   "execution_count": 240,
   "metadata": {},
   "outputs": [
    {
     "data": {
      "text/html": [
       "<div>\n",
       "<style scoped>\n",
       "    .dataframe tbody tr th:only-of-type {\n",
       "        vertical-align: middle;\n",
       "    }\n",
       "\n",
       "    .dataframe tbody tr th {\n",
       "        vertical-align: top;\n",
       "    }\n",
       "\n",
       "    .dataframe thead th {\n",
       "        text-align: right;\n",
       "    }\n",
       "</style>\n",
       "<table border=\"1\" class=\"dataframe\">\n",
       "  <thead>\n",
       "    <tr style=\"text-align: right;\">\n",
       "      <th></th>\n",
       "      <th>restaurant_id</th>\n",
       "      <th>restaurant_sales</th>\n",
       "    </tr>\n",
       "  </thead>\n",
       "  <tbody>\n",
       "    <tr>\n",
       "      <th>0</th>\n",
       "      <td>9</td>\n",
       "      <td>671.894</td>\n",
       "    </tr>\n",
       "    <tr>\n",
       "      <th>1</th>\n",
       "      <td>107</td>\n",
       "      <td>638.422</td>\n",
       "    </tr>\n",
       "    <tr>\n",
       "      <th>2</th>\n",
       "      <td>8</td>\n",
       "      <td>564.360</td>\n",
       "    </tr>\n",
       "    <tr>\n",
       "      <th>3</th>\n",
       "      <td>20</td>\n",
       "      <td>523.216</td>\n",
       "    </tr>\n",
       "    <tr>\n",
       "      <th>4</th>\n",
       "      <td>68</td>\n",
       "      <td>439.228</td>\n",
       "    </tr>\n",
       "  </tbody>\n",
       "</table>\n",
       "</div>"
      ],
      "text/plain": [
       "   restaurant_id  restaurant_sales\n",
       "0              9           671.894\n",
       "1            107           638.422\n",
       "2              8           564.360\n",
       "3             20           523.216\n",
       "4             68           439.228"
      ]
     },
     "execution_count": 240,
     "metadata": {},
     "output_type": "execute_result"
    }
   ],
   "source": [
    "# Check the result\n",
    "top_rest_22.head()"
   ]
  },
  {
   "cell_type": "code",
   "execution_count": 241,
   "metadata": {},
   "outputs": [],
   "source": [
    "# Extract the first 3 records\n",
    "top3=top_rest_22.head(3)"
   ]
  },
  {
   "cell_type": "code",
   "execution_count": 244,
   "metadata": {},
   "outputs": [
    {
     "data": {
      "text/html": [
       "<div>\n",
       "<style scoped>\n",
       "    .dataframe tbody tr th:only-of-type {\n",
       "        vertical-align: middle;\n",
       "    }\n",
       "\n",
       "    .dataframe tbody tr th {\n",
       "        vertical-align: top;\n",
       "    }\n",
       "\n",
       "    .dataframe thead th {\n",
       "        text-align: right;\n",
       "    }\n",
       "</style>\n",
       "<table border=\"1\" class=\"dataframe\">\n",
       "  <thead>\n",
       "    <tr style=\"text-align: right;\">\n",
       "      <th></th>\n",
       "      <th>restaurant_id</th>\n",
       "      <th>restaurant_sales</th>\n",
       "    </tr>\n",
       "  </thead>\n",
       "  <tbody>\n",
       "    <tr>\n",
       "      <th>0</th>\n",
       "      <td>9</td>\n",
       "      <td>671.894</td>\n",
       "    </tr>\n",
       "    <tr>\n",
       "      <th>1</th>\n",
       "      <td>107</td>\n",
       "      <td>638.422</td>\n",
       "    </tr>\n",
       "    <tr>\n",
       "      <th>2</th>\n",
       "      <td>8</td>\n",
       "      <td>564.360</td>\n",
       "    </tr>\n",
       "  </tbody>\n",
       "</table>\n",
       "</div>"
      ],
      "text/plain": [
       "   restaurant_id  restaurant_sales\n",
       "0              9           671.894\n",
       "1            107           638.422\n",
       "2              8           564.360"
      ]
     },
     "execution_count": 244,
     "metadata": {},
     "output_type": "execute_result"
    }
   ],
   "source": [
    "# Check the result\n",
    "top3"
   ]
  },
  {
   "cell_type": "markdown",
   "metadata": {},
   "source": [
    "### Question 8: \n",
    "- The marketing department wants to reach out to non-returning loyalty card customers from 2021 in hopes they can lower their customer churn rate. Find all the customers who are considered non-returning including their id, name and email. "
   ]
  },
  {
   "cell_type": "code",
   "execution_count": 248,
   "metadata": {},
   "outputs": [],
   "source": [
    "# Customer purchase only onece in 2021\n",
    "order_count=merged.groupby('cust_id')['order_id'].count().to_frame('order_count')"
   ]
  },
  {
   "cell_type": "code",
   "execution_count": 250,
   "metadata": {},
   "outputs": [
    {
     "data": {
      "text/html": [
       "<div>\n",
       "<style scoped>\n",
       "    .dataframe tbody tr th:only-of-type {\n",
       "        vertical-align: middle;\n",
       "    }\n",
       "\n",
       "    .dataframe tbody tr th {\n",
       "        vertical-align: top;\n",
       "    }\n",
       "\n",
       "    .dataframe thead th {\n",
       "        text-align: right;\n",
       "    }\n",
       "</style>\n",
       "<table border=\"1\" class=\"dataframe\">\n",
       "  <thead>\n",
       "    <tr style=\"text-align: right;\">\n",
       "      <th></th>\n",
       "      <th>order_count</th>\n",
       "    </tr>\n",
       "    <tr>\n",
       "      <th>cust_id</th>\n",
       "      <th></th>\n",
       "    </tr>\n",
       "  </thead>\n",
       "  <tbody>\n",
       "    <tr>\n",
       "      <th>1002</th>\n",
       "      <td>2</td>\n",
       "    </tr>\n",
       "    <tr>\n",
       "      <th>1003</th>\n",
       "      <td>2</td>\n",
       "    </tr>\n",
       "    <tr>\n",
       "      <th>1004</th>\n",
       "      <td>3</td>\n",
       "    </tr>\n",
       "    <tr>\n",
       "      <th>1005</th>\n",
       "      <td>3</td>\n",
       "    </tr>\n",
       "    <tr>\n",
       "      <th>1006</th>\n",
       "      <td>2</td>\n",
       "    </tr>\n",
       "    <tr>\n",
       "      <th>...</th>\n",
       "      <td>...</td>\n",
       "    </tr>\n",
       "    <tr>\n",
       "      <th>1402</th>\n",
       "      <td>1</td>\n",
       "    </tr>\n",
       "    <tr>\n",
       "      <th>1403</th>\n",
       "      <td>1</td>\n",
       "    </tr>\n",
       "    <tr>\n",
       "      <th>1404</th>\n",
       "      <td>1</td>\n",
       "    </tr>\n",
       "    <tr>\n",
       "      <th>1405</th>\n",
       "      <td>1</td>\n",
       "    </tr>\n",
       "    <tr>\n",
       "      <th>1406</th>\n",
       "      <td>1</td>\n",
       "    </tr>\n",
       "  </tbody>\n",
       "</table>\n",
       "<p>399 rows × 1 columns</p>\n",
       "</div>"
      ],
      "text/plain": [
       "         order_count\n",
       "cust_id             \n",
       "1002               2\n",
       "1003               2\n",
       "1004               3\n",
       "1005               3\n",
       "1006               2\n",
       "...              ...\n",
       "1402               1\n",
       "1403               1\n",
       "1404               1\n",
       "1405               1\n",
       "1406               1\n",
       "\n",
       "[399 rows x 1 columns]"
      ]
     },
     "execution_count": 250,
     "metadata": {},
     "output_type": "execute_result"
    }
   ],
   "source": [
    "# Check the result\n",
    "order_count"
   ]
  },
  {
   "cell_type": "code",
   "execution_count": 252,
   "metadata": {},
   "outputs": [],
   "source": [
    "# Filter orders with exactly one occurrence to identify non-returning customers\n",
    "one_order=order_count[order_count['order_count']==1]"
   ]
  },
  {
   "cell_type": "code",
   "execution_count": 260,
   "metadata": {},
   "outputs": [
    {
     "data": {
      "text/plain": [
       "order_count\n",
       "1    109\n",
       "Name: count, dtype: int64"
      ]
     },
     "execution_count": 260,
     "metadata": {},
     "output_type": "execute_result"
    }
   ],
   "source": [
    "# Count the number of occurrences of each unique value in the 'order_count column \n",
    "one_order['order_count'].value_counts()"
   ]
  },
  {
   "cell_type": "code",
   "execution_count": 262,
   "metadata": {},
   "outputs": [
    {
     "data": {
      "text/html": [
       "<div>\n",
       "<style scoped>\n",
       "    .dataframe tbody tr th:only-of-type {\n",
       "        vertical-align: middle;\n",
       "    }\n",
       "\n",
       "    .dataframe tbody tr th {\n",
       "        vertical-align: top;\n",
       "    }\n",
       "\n",
       "    .dataframe thead th {\n",
       "        text-align: right;\n",
       "    }\n",
       "</style>\n",
       "<table border=\"1\" class=\"dataframe\">\n",
       "  <thead>\n",
       "    <tr style=\"text-align: right;\">\n",
       "      <th></th>\n",
       "      <th>order_count</th>\n",
       "    </tr>\n",
       "    <tr>\n",
       "      <th>cust_id</th>\n",
       "      <th></th>\n",
       "    </tr>\n",
       "  </thead>\n",
       "  <tbody>\n",
       "    <tr>\n",
       "      <th>1113</th>\n",
       "      <td>1</td>\n",
       "    </tr>\n",
       "    <tr>\n",
       "      <th>1114</th>\n",
       "      <td>1</td>\n",
       "    </tr>\n",
       "    <tr>\n",
       "      <th>1115</th>\n",
       "      <td>1</td>\n",
       "    </tr>\n",
       "    <tr>\n",
       "      <th>1116</th>\n",
       "      <td>1</td>\n",
       "    </tr>\n",
       "    <tr>\n",
       "      <th>1120</th>\n",
       "      <td>1</td>\n",
       "    </tr>\n",
       "  </tbody>\n",
       "</table>\n",
       "</div>"
      ],
      "text/plain": [
       "         order_count\n",
       "cust_id             \n",
       "1113               1\n",
       "1114               1\n",
       "1115               1\n",
       "1116               1\n",
       "1120               1"
      ]
     },
     "execution_count": 262,
     "metadata": {},
     "output_type": "execute_result"
    }
   ],
   "source": [
    "# Check the result\n",
    "one_order.head()"
   ]
  },
  {
   "cell_type": "code",
   "execution_count": 264,
   "metadata": {},
   "outputs": [],
   "source": [
    "# Reset the index of the DataFrame to ensure 'order_count' is a column and not an index\n",
    "one_order.reset_index(inplace = True)"
   ]
  },
  {
   "cell_type": "code",
   "execution_count": 266,
   "metadata": {},
   "outputs": [
    {
     "data": {
      "text/html": [
       "<div>\n",
       "<style scoped>\n",
       "    .dataframe tbody tr th:only-of-type {\n",
       "        vertical-align: middle;\n",
       "    }\n",
       "\n",
       "    .dataframe tbody tr th {\n",
       "        vertical-align: top;\n",
       "    }\n",
       "\n",
       "    .dataframe thead th {\n",
       "        text-align: right;\n",
       "    }\n",
       "</style>\n",
       "<table border=\"1\" class=\"dataframe\">\n",
       "  <thead>\n",
       "    <tr style=\"text-align: right;\">\n",
       "      <th></th>\n",
       "      <th>cust_id</th>\n",
       "      <th>order_count</th>\n",
       "    </tr>\n",
       "  </thead>\n",
       "  <tbody>\n",
       "    <tr>\n",
       "      <th>0</th>\n",
       "      <td>1113</td>\n",
       "      <td>1</td>\n",
       "    </tr>\n",
       "    <tr>\n",
       "      <th>1</th>\n",
       "      <td>1114</td>\n",
       "      <td>1</td>\n",
       "    </tr>\n",
       "    <tr>\n",
       "      <th>2</th>\n",
       "      <td>1115</td>\n",
       "      <td>1</td>\n",
       "    </tr>\n",
       "    <tr>\n",
       "      <th>3</th>\n",
       "      <td>1116</td>\n",
       "      <td>1</td>\n",
       "    </tr>\n",
       "    <tr>\n",
       "      <th>4</th>\n",
       "      <td>1120</td>\n",
       "      <td>1</td>\n",
       "    </tr>\n",
       "  </tbody>\n",
       "</table>\n",
       "</div>"
      ],
      "text/plain": [
       "   cust_id  order_count\n",
       "0     1113            1\n",
       "1     1114            1\n",
       "2     1115            1\n",
       "3     1116            1\n",
       "4     1120            1"
      ]
     },
     "execution_count": 266,
     "metadata": {},
     "output_type": "execute_result"
    }
   ],
   "source": [
    "# Check the result\n",
    "one_order.head()"
   ]
  },
  {
   "cell_type": "code",
   "execution_count": 268,
   "metadata": {},
   "outputs": [
    {
     "data": {
      "text/plain": [
       "0      1113\n",
       "1      1114\n",
       "2      1115\n",
       "3      1116\n",
       "4      1120\n",
       "       ... \n",
       "104    1402\n",
       "105    1403\n",
       "106    1404\n",
       "107    1405\n",
       "108    1406\n",
       "Name: cust_id, Length: 109, dtype: int64"
      ]
     },
     "execution_count": 268,
     "metadata": {},
     "output_type": "execute_result"
    }
   ],
   "source": [
    "# list of all cust ids who purchased once\n",
    "\n",
    "# But these purchases could be in 2022 / 2021\n",
    "\n",
    "one_order[\"cust_id\"]"
   ]
  },
  {
   "cell_type": "code",
   "execution_count": 270,
   "metadata": {},
   "outputs": [],
   "source": [
    "# Customer nummers with unique order in 2021\n",
    "cust_one_p_2021=pd.merge(one_order,sales_2021,on='cust_id',how='inner')"
   ]
  },
  {
   "cell_type": "code",
   "execution_count": 272,
   "metadata": {},
   "outputs": [
    {
     "data": {
      "text/html": [
       "<div>\n",
       "<style scoped>\n",
       "    .dataframe tbody tr th:only-of-type {\n",
       "        vertical-align: middle;\n",
       "    }\n",
       "\n",
       "    .dataframe tbody tr th {\n",
       "        vertical-align: top;\n",
       "    }\n",
       "\n",
       "    .dataframe thead th {\n",
       "        text-align: right;\n",
       "    }\n",
       "</style>\n",
       "<table border=\"1\" class=\"dataframe\">\n",
       "  <thead>\n",
       "    <tr style=\"text-align: right;\">\n",
       "      <th></th>\n",
       "      <th>cust_id</th>\n",
       "      <th>order_count</th>\n",
       "      <th>order_id</th>\n",
       "      <th>order_timestamp</th>\n",
       "      <th>delivered_timestamp</th>\n",
       "      <th>driver_id</th>\n",
       "      <th>restaurant_id</th>\n",
       "      <th>delivery_region</th>\n",
       "      <th>discount_applied</th>\n",
       "      <th>discount_code</th>\n",
       "      <th>...</th>\n",
       "      <th>status</th>\n",
       "      <th>payment</th>\n",
       "      <th>id</th>\n",
       "      <th>first_name</th>\n",
       "      <th>last_name</th>\n",
       "      <th>age</th>\n",
       "      <th>city</th>\n",
       "      <th>email</th>\n",
       "      <th>year</th>\n",
       "      <th>month</th>\n",
       "    </tr>\n",
       "  </thead>\n",
       "  <tbody>\n",
       "    <tr>\n",
       "      <th>0</th>\n",
       "      <td>1129</td>\n",
       "      <td>1</td>\n",
       "      <td>100052</td>\n",
       "      <td>2021-02-16 17:56:00</td>\n",
       "      <td>2021-02-16 18:23:00</td>\n",
       "      <td>63</td>\n",
       "      <td>91</td>\n",
       "      <td>Dublin</td>\n",
       "      <td>False</td>\n",
       "      <td>NaN</td>\n",
       "      <td>...</td>\n",
       "      <td>COMPLETED</td>\n",
       "      <td>40.15</td>\n",
       "      <td>1129</td>\n",
       "      <td>Taylor</td>\n",
       "      <td>Martinez</td>\n",
       "      <td>31</td>\n",
       "      <td>Galway</td>\n",
       "      <td>Martinez_Taylor@aol.com</td>\n",
       "      <td>2021</td>\n",
       "      <td>2</td>\n",
       "    </tr>\n",
       "    <tr>\n",
       "      <th>1</th>\n",
       "      <td>1130</td>\n",
       "      <td>1</td>\n",
       "      <td>100053</td>\n",
       "      <td>2021-09-03 21:27:00</td>\n",
       "      <td>2021-09-03 21:57:00</td>\n",
       "      <td>277</td>\n",
       "      <td>6</td>\n",
       "      <td>Cork</td>\n",
       "      <td>False</td>\n",
       "      <td>NaN</td>\n",
       "      <td>...</td>\n",
       "      <td>COMPLETED</td>\n",
       "      <td>40.15</td>\n",
       "      <td>1130</td>\n",
       "      <td>Justin</td>\n",
       "      <td>Alvarez</td>\n",
       "      <td>31</td>\n",
       "      <td>Dublin</td>\n",
       "      <td>Alvarez_Justin95@comcast.net</td>\n",
       "      <td>2021</td>\n",
       "      <td>9</td>\n",
       "    </tr>\n",
       "    <tr>\n",
       "      <th>2</th>\n",
       "      <td>1135</td>\n",
       "      <td>1</td>\n",
       "      <td>100054</td>\n",
       "      <td>2021-10-29 20:28:00</td>\n",
       "      <td>2021-10-29 20:58:00</td>\n",
       "      <td>179</td>\n",
       "      <td>10</td>\n",
       "      <td>Cork</td>\n",
       "      <td>False</td>\n",
       "      <td>NaN</td>\n",
       "      <td>...</td>\n",
       "      <td>COMPLETED</td>\n",
       "      <td>39.71</td>\n",
       "      <td>1135</td>\n",
       "      <td>Marco</td>\n",
       "      <td>Simpson</td>\n",
       "      <td>25</td>\n",
       "      <td>Limerick</td>\n",
       "      <td>MarcoSimpson@aol.com</td>\n",
       "      <td>2021</td>\n",
       "      <td>10</td>\n",
       "    </tr>\n",
       "    <tr>\n",
       "      <th>3</th>\n",
       "      <td>1137</td>\n",
       "      <td>1</td>\n",
       "      <td>100055</td>\n",
       "      <td>2021-07-19 18:19:00</td>\n",
       "      <td>2021-07-19 18:49:00</td>\n",
       "      <td>156</td>\n",
       "      <td>68</td>\n",
       "      <td>Cork</td>\n",
       "      <td>False</td>\n",
       "      <td>NaN</td>\n",
       "      <td>...</td>\n",
       "      <td>COMPLETED</td>\n",
       "      <td>39.66</td>\n",
       "      <td>1137</td>\n",
       "      <td>Nicholas</td>\n",
       "      <td>Fernandez</td>\n",
       "      <td>29</td>\n",
       "      <td>Dublin</td>\n",
       "      <td>NFernandez@comcast.net</td>\n",
       "      <td>2021</td>\n",
       "      <td>7</td>\n",
       "    </tr>\n",
       "    <tr>\n",
       "      <th>4</th>\n",
       "      <td>1139</td>\n",
       "      <td>1</td>\n",
       "      <td>100056</td>\n",
       "      <td>2021-10-16 21:40:00</td>\n",
       "      <td>2021-10-16 22:16:00</td>\n",
       "      <td>195</td>\n",
       "      <td>241</td>\n",
       "      <td>Cork</td>\n",
       "      <td>False</td>\n",
       "      <td>NaN</td>\n",
       "      <td>...</td>\n",
       "      <td>COMPLETED</td>\n",
       "      <td>39.63</td>\n",
       "      <td>1139</td>\n",
       "      <td>Lori</td>\n",
       "      <td>Lawson</td>\n",
       "      <td>41</td>\n",
       "      <td>Dublin</td>\n",
       "      <td>Lawson.Lori@mail.com</td>\n",
       "      <td>2021</td>\n",
       "      <td>10</td>\n",
       "    </tr>\n",
       "  </tbody>\n",
       "</table>\n",
       "<p>5 rows × 22 columns</p>\n",
       "</div>"
      ],
      "text/plain": [
       "   cust_id  order_count  order_id     order_timestamp delivered_timestamp  \\\n",
       "0     1129            1    100052 2021-02-16 17:56:00 2021-02-16 18:23:00   \n",
       "1     1130            1    100053 2021-09-03 21:27:00 2021-09-03 21:57:00   \n",
       "2     1135            1    100054 2021-10-29 20:28:00 2021-10-29 20:58:00   \n",
       "3     1137            1    100055 2021-07-19 18:19:00 2021-07-19 18:49:00   \n",
       "4     1139            1    100056 2021-10-16 21:40:00 2021-10-16 22:16:00   \n",
       "\n",
       "   driver_id  restaurant_id delivery_region  discount_applied discount_code  \\\n",
       "0         63             91          Dublin             False           NaN   \n",
       "1        277              6            Cork             False           NaN   \n",
       "2        179             10            Cork             False           NaN   \n",
       "3        156             68            Cork             False           NaN   \n",
       "4        195            241            Cork             False           NaN   \n",
       "\n",
       "   ...     status  payment    id  first_name  last_name age      city  \\\n",
       "0  ...  COMPLETED    40.15  1129      Taylor   Martinez  31    Galway   \n",
       "1  ...  COMPLETED    40.15  1130      Justin    Alvarez  31    Dublin   \n",
       "2  ...  COMPLETED    39.71  1135       Marco    Simpson  25  Limerick   \n",
       "3  ...  COMPLETED    39.66  1137    Nicholas  Fernandez  29    Dublin   \n",
       "4  ...  COMPLETED    39.63  1139        Lori     Lawson  41    Dublin   \n",
       "\n",
       "                          email  year month  \n",
       "0       Martinez_Taylor@aol.com  2021     2  \n",
       "1  Alvarez_Justin95@comcast.net  2021     9  \n",
       "2          MarcoSimpson@aol.com  2021    10  \n",
       "3        NFernandez@comcast.net  2021     7  \n",
       "4          Lawson.Lori@mail.com  2021    10  \n",
       "\n",
       "[5 rows x 22 columns]"
      ]
     },
     "execution_count": 272,
     "metadata": {},
     "output_type": "execute_result"
    }
   ],
   "source": [
    "# Check the result\n",
    "cust_one_p_2021.head()"
   ]
  },
  {
   "cell_type": "code",
   "execution_count": 274,
   "metadata": {},
   "outputs": [],
   "source": [
    "# Extract unique cust_id form sales_2021\n",
    "solution=cust_one_p_2021[['cust_id','first_name','last_name','email']]"
   ]
  },
  {
   "cell_type": "code",
   "execution_count": 276,
   "metadata": {},
   "outputs": [
    {
     "data": {
      "text/plain": [
       "50"
      ]
     },
     "execution_count": 276,
     "metadata": {},
     "output_type": "execute_result"
    }
   ],
   "source": [
    "# Count the number of the customer\n",
    "len(solution)"
   ]
  },
  {
   "cell_type": "code",
   "execution_count": 278,
   "metadata": {},
   "outputs": [
    {
     "data": {
      "text/html": [
       "<div>\n",
       "<style scoped>\n",
       "    .dataframe tbody tr th:only-of-type {\n",
       "        vertical-align: middle;\n",
       "    }\n",
       "\n",
       "    .dataframe tbody tr th {\n",
       "        vertical-align: top;\n",
       "    }\n",
       "\n",
       "    .dataframe thead th {\n",
       "        text-align: right;\n",
       "    }\n",
       "</style>\n",
       "<table border=\"1\" class=\"dataframe\">\n",
       "  <thead>\n",
       "    <tr style=\"text-align: right;\">\n",
       "      <th></th>\n",
       "      <th>cust_id</th>\n",
       "      <th>first_name</th>\n",
       "      <th>last_name</th>\n",
       "      <th>email</th>\n",
       "    </tr>\n",
       "  </thead>\n",
       "  <tbody>\n",
       "    <tr>\n",
       "      <th>0</th>\n",
       "      <td>1129</td>\n",
       "      <td>Taylor</td>\n",
       "      <td>Martinez</td>\n",
       "      <td>Martinez_Taylor@aol.com</td>\n",
       "    </tr>\n",
       "    <tr>\n",
       "      <th>1</th>\n",
       "      <td>1130</td>\n",
       "      <td>Justin</td>\n",
       "      <td>Alvarez</td>\n",
       "      <td>Alvarez_Justin95@comcast.net</td>\n",
       "    </tr>\n",
       "    <tr>\n",
       "      <th>2</th>\n",
       "      <td>1135</td>\n",
       "      <td>Marco</td>\n",
       "      <td>Simpson</td>\n",
       "      <td>MarcoSimpson@aol.com</td>\n",
       "    </tr>\n",
       "    <tr>\n",
       "      <th>3</th>\n",
       "      <td>1137</td>\n",
       "      <td>Nicholas</td>\n",
       "      <td>Fernandez</td>\n",
       "      <td>NFernandez@comcast.net</td>\n",
       "    </tr>\n",
       "    <tr>\n",
       "      <th>4</th>\n",
       "      <td>1139</td>\n",
       "      <td>Lori</td>\n",
       "      <td>Lawson</td>\n",
       "      <td>Lawson.Lori@mail.com</td>\n",
       "    </tr>\n",
       "  </tbody>\n",
       "</table>\n",
       "</div>"
      ],
      "text/plain": [
       "   cust_id first_name  last_name                         email\n",
       "0     1129     Taylor   Martinez       Martinez_Taylor@aol.com\n",
       "1     1130     Justin    Alvarez  Alvarez_Justin95@comcast.net\n",
       "2     1135      Marco    Simpson          MarcoSimpson@aol.com\n",
       "3     1137   Nicholas  Fernandez        NFernandez@comcast.net\n",
       "4     1139       Lori     Lawson          Lawson.Lori@mail.com"
      ]
     },
     "execution_count": 278,
     "metadata": {},
     "output_type": "execute_result"
    }
   ],
   "source": [
    "# Show the result\n",
    "solution.head()"
   ]
  },
  {
   "cell_type": "markdown",
   "metadata": {},
   "source": [
    "### Question 9: \n",
    "- The sales team want to find out if the discount code ‘BLACKFRIDAY22’ was as successful as last years ‘BLACKFRIDAY21’. Find the total amount of sales from both discount codes."
   ]
  },
  {
   "cell_type": "code",
   "execution_count": 281,
   "metadata": {},
   "outputs": [
    {
     "data": {
      "text/plain": [
       "discount_code\n",
       "BLACKFRIDAY22    45\n",
       "BLACKFRIDAY21    24\n",
       "HAPPYBIRTHDAY    21\n",
       "Name: count, dtype: int64"
      ]
     },
     "execution_count": 281,
     "metadata": {},
     "output_type": "execute_result"
    }
   ],
   "source": [
    "# Finding tht amount (count) of discount codes usesd\n",
    "merged['discount_code'].value_counts()"
   ]
  },
  {
   "cell_type": "code",
   "execution_count": 285,
   "metadata": {},
   "outputs": [],
   "source": [
    "# Amount of sales from BLACKFRIDAY21\n",
    "sales21=sales_2021.groupby('discount_code').get_group('BLACKFRIDAY21')['payment'].sum()"
   ]
  },
  {
   "cell_type": "code",
   "execution_count": 287,
   "metadata": {},
   "outputs": [
    {
     "data": {
      "text/plain": [
       "579.2320000000001"
      ]
     },
     "execution_count": 287,
     "metadata": {},
     "output_type": "execute_result"
    }
   ],
   "source": [
    "# Check the result\n",
    "sales21"
   ]
  },
  {
   "cell_type": "code",
   "execution_count": 291,
   "metadata": {},
   "outputs": [],
   "source": [
    "# Amount of sales from BLACKFRIDAY22\n",
    "sales22=sales_2022.groupby('discount_code').get_group('BLACKFRIDAY22')['payment'].sum()"
   ]
  },
  {
   "cell_type": "code",
   "execution_count": 293,
   "metadata": {},
   "outputs": [
    {
     "data": {
      "text/plain": [
       "954.0160000000002"
      ]
     },
     "execution_count": 293,
     "metadata": {},
     "output_type": "execute_result"
    }
   ],
   "source": [
    "# Check the result\n",
    "sales22"
   ]
  },
  {
   "cell_type": "code",
   "execution_count": 298,
   "metadata": {},
   "outputs": [
    {
     "name": "stdout",
     "output_type": "stream",
     "text": [
      "BLACKFRIDAY22 was more successful than BLACKFRIDAY21\n",
      "Sales 2022: € 954.0160000000002 \n",
      "Sales 2021: € 579.2320000000001\n"
     ]
    }
   ],
   "source": [
    "# Conditional judgment\n",
    "if sales22>sales21:\n",
    "    print(\"BLACKFRIDAY22 was more successful than BLACKFRIDAY21\")\n",
    "elif sales22<sales21:\n",
    "    print(\"BLACKFRIDAY22 was less successful than BLACKFRIDAY21\")\n",
    "else:\n",
    "    print(\"BLACKFRIDAY22 was as successful as BLACKFRIDAY21\")\n",
    "\n",
    "#\\n\n",
    "\n",
    "print('Sales 2022: €', sales22, '\\nSales 2021: €', sales21)"
   ]
  },
  {
   "cell_type": "markdown",
   "metadata": {},
   "source": [
    "### Question 10: \n",
    "- What were the locations with the lowest cumulative sales for 2022? Should the marketing department tailor their marketing efforts more towards this location (Perhaps other factors are responsible for example low population) "
   ]
  },
  {
   "cell_type": "code",
   "execution_count": 301,
   "metadata": {},
   "outputs": [],
   "source": [
    "# Total sales in regions \n",
    "region_sales=sales_2022.groupby('delivery_region')['payment'].sum().to_frame('Payment').sort_values(by='Payment',ascending=True)"
   ]
  },
  {
   "cell_type": "code",
   "execution_count": 307,
   "metadata": {},
   "outputs": [
    {
     "data": {
      "text/html": [
       "<div>\n",
       "<style scoped>\n",
       "    .dataframe tbody tr th:only-of-type {\n",
       "        vertical-align: middle;\n",
       "    }\n",
       "\n",
       "    .dataframe tbody tr th {\n",
       "        vertical-align: top;\n",
       "    }\n",
       "\n",
       "    .dataframe thead th {\n",
       "        text-align: right;\n",
       "    }\n",
       "</style>\n",
       "<table border=\"1\" class=\"dataframe\">\n",
       "  <thead>\n",
       "    <tr style=\"text-align: right;\">\n",
       "      <th></th>\n",
       "      <th>Payment</th>\n",
       "    </tr>\n",
       "    <tr>\n",
       "      <th>delivery_region</th>\n",
       "      <th></th>\n",
       "    </tr>\n",
       "  </thead>\n",
       "  <tbody>\n",
       "    <tr>\n",
       "      <th>Leitrim</th>\n",
       "      <td>493.890</td>\n",
       "    </tr>\n",
       "    <tr>\n",
       "      <th>Sligo</th>\n",
       "      <td>885.080</td>\n",
       "    </tr>\n",
       "    <tr>\n",
       "      <th>Kerry</th>\n",
       "      <td>1399.640</td>\n",
       "    </tr>\n",
       "    <tr>\n",
       "      <th>Galway</th>\n",
       "      <td>2650.840</td>\n",
       "    </tr>\n",
       "    <tr>\n",
       "      <th>Cork</th>\n",
       "      <td>3456.407</td>\n",
       "    </tr>\n",
       "    <tr>\n",
       "      <th>Dublin</th>\n",
       "      <td>6732.098</td>\n",
       "    </tr>\n",
       "  </tbody>\n",
       "</table>\n",
       "</div>"
      ],
      "text/plain": [
       "                  Payment\n",
       "delivery_region          \n",
       "Leitrim           493.890\n",
       "Sligo             885.080\n",
       "Kerry            1399.640\n",
       "Galway           2650.840\n",
       "Cork             3456.407\n",
       "Dublin           6732.098"
      ]
     },
     "execution_count": 307,
     "metadata": {},
     "output_type": "execute_result"
    }
   ],
   "source": [
    "# Check the result\n",
    "region_sales"
   ]
  },
  {
   "cell_type": "code",
   "execution_count": 311,
   "metadata": {},
   "outputs": [],
   "source": [
    "# Identify the region with the lowest sales\n",
    "lower_region=region_sales.idxmin().iloc[0]"
   ]
  },
  {
   "cell_type": "code",
   "execution_count": 313,
   "metadata": {},
   "outputs": [
    {
     "data": {
      "text/plain": [
       "'Leitrim'"
      ]
     },
     "execution_count": 313,
     "metadata": {},
     "output_type": "execute_result"
    }
   ],
   "source": [
    "# Check the result\n",
    "lower_region"
   ]
  },
  {
   "cell_type": "code",
   "execution_count": 315,
   "metadata": {},
   "outputs": [],
   "source": [
    "# Get the minimum sales amount across all regions\n",
    "lower_payment=region_sales.min().iloc[0]"
   ]
  },
  {
   "cell_type": "code",
   "execution_count": 317,
   "metadata": {},
   "outputs": [
    {
     "data": {
      "text/plain": [
       "493.89"
      ]
     },
     "execution_count": 317,
     "metadata": {},
     "output_type": "execute_result"
    }
   ],
   "source": [
    "# Check the result\n",
    "lower_payment"
   ]
  },
  {
   "cell_type": "code",
   "execution_count": 319,
   "metadata": {},
   "outputs": [],
   "source": [
    "# Create a DataFrame with the region having the lowest sales and the corresponding sales amount\n",
    "lower=pd.DataFrame({'lower_region':[lower_region],'region_sales':[lower_payment]})"
   ]
  },
  {
   "cell_type": "code",
   "execution_count": 321,
   "metadata": {},
   "outputs": [
    {
     "data": {
      "text/html": [
       "<div>\n",
       "<style scoped>\n",
       "    .dataframe tbody tr th:only-of-type {\n",
       "        vertical-align: middle;\n",
       "    }\n",
       "\n",
       "    .dataframe tbody tr th {\n",
       "        vertical-align: top;\n",
       "    }\n",
       "\n",
       "    .dataframe thead th {\n",
       "        text-align: right;\n",
       "    }\n",
       "</style>\n",
       "<table border=\"1\" class=\"dataframe\">\n",
       "  <thead>\n",
       "    <tr style=\"text-align: right;\">\n",
       "      <th></th>\n",
       "      <th>lower_region</th>\n",
       "      <th>region_sales</th>\n",
       "    </tr>\n",
       "  </thead>\n",
       "  <tbody>\n",
       "    <tr>\n",
       "      <th>0</th>\n",
       "      <td>Leitrim</td>\n",
       "      <td>493.89</td>\n",
       "    </tr>\n",
       "  </tbody>\n",
       "</table>\n",
       "</div>"
      ],
      "text/plain": [
       "  lower_region  region_sales\n",
       "0      Leitrim        493.89"
      ]
     },
     "execution_count": 321,
     "metadata": {},
     "output_type": "execute_result"
    }
   ],
   "source": [
    "# Check the result\n",
    "lower"
   ]
  },
  {
   "cell_type": "code",
   "execution_count": 323,
   "metadata": {},
   "outputs": [
    {
     "data": {
      "text/plain": [
       "'locations with the lowest cumulative sales for 2022: Leitrim (493.89)'"
      ]
     },
     "execution_count": 323,
     "metadata": {},
     "output_type": "execute_result"
    }
   ],
   "source": [
    "f'locations with the lowest cumulative sales for 2022: {lower_region} ({lower_payment})'"
   ]
  }
 ],
 "metadata": {
  "colab": {
   "provenance": []
  },
  "kernelspec": {
   "display_name": "Python 3 (ipykernel)",
   "language": "python",
   "name": "python3"
  },
  "language_info": {
   "codemirror_mode": {
    "name": "ipython",
    "version": 3
   },
   "file_extension": ".py",
   "mimetype": "text/x-python",
   "name": "python",
   "nbconvert_exporter": "python",
   "pygments_lexer": "ipython3",
   "version": "3.11.7"
  }
 },
 "nbformat": 4,
 "nbformat_minor": 4
}
